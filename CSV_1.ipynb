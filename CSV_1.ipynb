{
 "cells": [
  {
   "cell_type": "markdown",
   "id": "10a623aa",
   "metadata": {},
   "source": [
    "# Final Project\n",
    "## Bike sharing application using Bayesian network"
   ]
  },
  {
   "cell_type": "markdown",
   "id": "863aa957",
   "metadata": {},
   "source": [
    "- Check where the file locate"
   ]
  },
  {
   "cell_type": "code",
   "execution_count": 14,
   "id": "3c79512c",
   "metadata": {},
   "outputs": [
    {
     "data": {
      "text/plain": [
       "'/Users/hchae/Desktop'"
      ]
     },
     "execution_count": 14,
     "metadata": {},
     "output_type": "execute_result"
    }
   ],
   "source": [
    "pwd"
   ]
  },
  {
   "cell_type": "markdown",
   "id": "55c655f9",
   "metadata": {},
   "source": [
    "### Importing the Dataset"
   ]
  },
  {
   "cell_type": "code",
   "execution_count": 15,
   "id": "b2c43303",
   "metadata": {},
   "outputs": [],
   "source": [
    "dataset = pd.read_csv(\"london_merged.csv\")"
   ]
  },
  {
   "cell_type": "code",
   "execution_count": 5,
   "id": "0b598ea1",
   "metadata": {},
   "outputs": [
    {
     "data": {
      "text/html": [
       "<div>\n",
       "<style scoped>\n",
       "    .dataframe tbody tr th:only-of-type {\n",
       "        vertical-align: middle;\n",
       "    }\n",
       "\n",
       "    .dataframe tbody tr th {\n",
       "        vertical-align: top;\n",
       "    }\n",
       "\n",
       "    .dataframe thead th {\n",
       "        text-align: right;\n",
       "    }\n",
       "</style>\n",
       "<table border=\"1\" class=\"dataframe\">\n",
       "  <thead>\n",
       "    <tr style=\"text-align: right;\">\n",
       "      <th></th>\n",
       "      <th>timestamp</th>\n",
       "      <th>cnt</th>\n",
       "      <th>t1</th>\n",
       "      <th>t2</th>\n",
       "      <th>hum</th>\n",
       "      <th>wind_speed</th>\n",
       "      <th>weather_code</th>\n",
       "      <th>is_holiday</th>\n",
       "      <th>is_weekend</th>\n",
       "      <th>season</th>\n",
       "    </tr>\n",
       "  </thead>\n",
       "  <tbody>\n",
       "    <tr>\n",
       "      <th>0</th>\n",
       "      <td>2015-01-04 00:00:00</td>\n",
       "      <td>182</td>\n",
       "      <td>3.0</td>\n",
       "      <td>2.0</td>\n",
       "      <td>93.0</td>\n",
       "      <td>6.0</td>\n",
       "      <td>3.0</td>\n",
       "      <td>0.0</td>\n",
       "      <td>1.0</td>\n",
       "      <td>3.0</td>\n",
       "    </tr>\n",
       "    <tr>\n",
       "      <th>1</th>\n",
       "      <td>2015-01-04 01:00:00</td>\n",
       "      <td>138</td>\n",
       "      <td>3.0</td>\n",
       "      <td>2.5</td>\n",
       "      <td>93.0</td>\n",
       "      <td>5.0</td>\n",
       "      <td>1.0</td>\n",
       "      <td>0.0</td>\n",
       "      <td>1.0</td>\n",
       "      <td>3.0</td>\n",
       "    </tr>\n",
       "    <tr>\n",
       "      <th>2</th>\n",
       "      <td>2015-01-04 02:00:00</td>\n",
       "      <td>134</td>\n",
       "      <td>2.5</td>\n",
       "      <td>2.5</td>\n",
       "      <td>96.5</td>\n",
       "      <td>0.0</td>\n",
       "      <td>1.0</td>\n",
       "      <td>0.0</td>\n",
       "      <td>1.0</td>\n",
       "      <td>3.0</td>\n",
       "    </tr>\n",
       "    <tr>\n",
       "      <th>3</th>\n",
       "      <td>2015-01-04 03:00:00</td>\n",
       "      <td>72</td>\n",
       "      <td>2.0</td>\n",
       "      <td>2.0</td>\n",
       "      <td>100.0</td>\n",
       "      <td>0.0</td>\n",
       "      <td>1.0</td>\n",
       "      <td>0.0</td>\n",
       "      <td>1.0</td>\n",
       "      <td>3.0</td>\n",
       "    </tr>\n",
       "    <tr>\n",
       "      <th>4</th>\n",
       "      <td>2015-01-04 04:00:00</td>\n",
       "      <td>47</td>\n",
       "      <td>2.0</td>\n",
       "      <td>0.0</td>\n",
       "      <td>93.0</td>\n",
       "      <td>6.5</td>\n",
       "      <td>1.0</td>\n",
       "      <td>0.0</td>\n",
       "      <td>1.0</td>\n",
       "      <td>3.0</td>\n",
       "    </tr>\n",
       "  </tbody>\n",
       "</table>\n",
       "</div>"
      ],
      "text/plain": [
       "             timestamp  cnt   t1   t2    hum  wind_speed  weather_code  \\\n",
       "0  2015-01-04 00:00:00  182  3.0  2.0   93.0         6.0           3.0   \n",
       "1  2015-01-04 01:00:00  138  3.0  2.5   93.0         5.0           1.0   \n",
       "2  2015-01-04 02:00:00  134  2.5  2.5   96.5         0.0           1.0   \n",
       "3  2015-01-04 03:00:00   72  2.0  2.0  100.0         0.0           1.0   \n",
       "4  2015-01-04 04:00:00   47  2.0  0.0   93.0         6.5           1.0   \n",
       "\n",
       "   is_holiday  is_weekend  season  \n",
       "0         0.0         1.0     3.0  \n",
       "1         0.0         1.0     3.0  \n",
       "2         0.0         1.0     3.0  \n",
       "3         0.0         1.0     3.0  \n",
       "4         0.0         1.0     3.0  "
      ]
     },
     "execution_count": 5,
     "metadata": {},
     "output_type": "execute_result"
    }
   ],
   "source": [
    "dataset.head()"
   ]
  },
  {
   "cell_type": "markdown",
   "id": "5443cb4f",
   "metadata": {},
   "source": [
    "### Use pyBBN for creating Bayesian Networks "
   ]
  },
  {
   "cell_type": "code",
   "execution_count": 6,
   "id": "68db5926",
   "metadata": {},
   "outputs": [],
   "source": [
    "# for creating Bayesian Belief Networks (BBN)\n",
    "from pybbn.graph.dag import Bbn\n",
    "from pybbn.graph.edge import Edge, EdgeType\n",
    "from pybbn.graph.jointree import EvidenceBuilder\n",
    "from pybbn.graph.node import BbnNode\n",
    "from pybbn.graph.variable import Variable\n",
    "from pybbn.pptc.inferencecontroller import InferenceController"
   ]
  },
  {
   "cell_type": "code",
   "execution_count": 5,
   "id": "0649c33c",
   "metadata": {
    "collapsed": true
   },
   "outputs": [
    {
     "name": "stdout",
     "output_type": "stream",
     "text": [
      "Collecting pybbn\n",
      "  Downloading pybbn-3.2.1.tar.gz (35 kB)\n",
      "Requirement already satisfied: numpy in /Users/hchae/opt/anaconda3/lib/python3.8/site-packages (from pybbn) (1.20.1)\n",
      "Requirement already satisfied: scipy in /Users/hchae/opt/anaconda3/lib/python3.8/site-packages (from pybbn) (1.6.2)\n",
      "Requirement already satisfied: networkx in /Users/hchae/opt/anaconda3/lib/python3.8/site-packages (from pybbn) (2.5)\n",
      "Requirement already satisfied: pandas in /Users/hchae/opt/anaconda3/lib/python3.8/site-packages (from pybbn) (1.2.4)\n",
      "Requirement already satisfied: decorator>=4.3.0 in /Users/hchae/opt/anaconda3/lib/python3.8/site-packages (from networkx->pybbn) (5.0.6)\n",
      "Requirement already satisfied: python-dateutil>=2.7.3 in /Users/hchae/opt/anaconda3/lib/python3.8/site-packages (from pandas->pybbn) (2.8.1)\n",
      "Requirement already satisfied: pytz>=2017.3 in /Users/hchae/opt/anaconda3/lib/python3.8/site-packages (from pandas->pybbn) (2021.1)\n",
      "Requirement already satisfied: six>=1.5 in /Users/hchae/opt/anaconda3/lib/python3.8/site-packages (from python-dateutil>=2.7.3->pandas->pybbn) (1.15.0)\n",
      "Building wheels for collected packages: pybbn\n",
      "  Building wheel for pybbn (setup.py) ... \u001b[?25ldone\n",
      "\u001b[?25h  Created wheel for pybbn: filename=pybbn-3.2.1-py3-none-any.whl size=39725 sha256=90af64a9ef8b7fe21c01a218a09e9d77150d1504688632b06fb38b0a35918cac\n",
      "  Stored in directory: /Users/hchae/Library/Caches/pip/wheels/06/80/2f/0e63fe5497b2917af3b7bdcbb142985ba4e5e5ef9a2c0b14b9\n",
      "Successfully built pybbn\n",
      "Installing collected packages: pybbn\n",
      "Successfully installed pybbn-3.2.1\n",
      "Note: you may need to restart the kernel to use updated packages.\n"
     ]
    }
   ],
   "source": [
    "pip install pybbn"
   ]
  },
  {
   "cell_type": "markdown",
   "id": "29ab30ab",
   "metadata": {},
   "source": [
    "### Function that calculates proabaility distribution"
   ]
  },
  {
   "cell_type": "code",
   "execution_count": 7,
   "id": "ac4a51cb",
   "metadata": {},
   "outputs": [],
   "source": [
    "# This function helps to calculate probability distribution, which goes into BBN (note, can handle up to 2 parents)\n",
    "def probs(data, child, parent1=None, parent2=None):\n",
    "    if parent1==None:\n",
    "        # Calculate probabilities\n",
    "        prob=pd.crosstab(data[child], 'Empty', margins=False, normalize='columns').sort_index().to_numpy().reshape(-1).tolist()\n",
    "    elif parent1!=None:\n",
    "            # Check if child node has 1 parent or 2 parents\n",
    "            if parent2==None:\n",
    "                # Caclucate probabilities\n",
    "                prob=pd.crosstab(data[parent1],data[child], margins=False, normalize='index').sort_index().to_numpy().reshape(-1).tolist()\n",
    "            else:    \n",
    "                # Caclucate probabilities\n",
    "                prob=pd.crosstab([data[parent1],data[parent2]],data[child], margins=False, normalize='index').sort_index().to_numpy().reshape(-1).tolist()\n",
    "    else: print(\"Error in Probability Frequency Calculations\")\n",
    "    return prob  "
   ]
  },
  {
   "cell_type": "markdown",
   "id": "9ec77771",
   "metadata": {},
   "source": [
    "#### Further work needed - only few nodes are considered"
   ]
  },
  {
   "cell_type": "code",
   "execution_count": 38,
   "id": "ca1fad80",
   "metadata": {},
   "outputs": [],
   "source": [
    "#Create nodes by using our earlier function to automatically calculate probabilities\n",
    "is_holiday = BbnNode(Variable(0, 'is_holiday', ['No', 'Yes']), probs(dataset, child='cnt'))\n",
    "#is_weedend = BbnNode(Variable(1, 'is_weedend'), probs(df, child='cnt'))\n",
    "\n",
    "season = BbnNode(Variable(1, 'season',['<=100', '>100']), probs(dataset, child='t1'))\n",
    "t1 = BbnNode(Variable(2, 't1',['<=100', '>100']), probs(dataset, child='weather_code', parent1='season'))\n",
    "weather_code = BbnNode(Variable(3, 'weather_code',['<=100', '>100']), probs(dataset,child='cnt',parent1='t1'))         \n",
    "number = BbnNode(Variable(4, 'cnt',['<=100', '>100']), probs(dataset, child='cnt',parent1='is_holiday', parent2='weather_code'))\n",
    "             \n",
    "\n",
    "# Create Network\n",
    "bbn = Bbn() \\\n",
    "    .add_node(is_holiday) \\\n",
    "    .add_node(season) \\\n",
    "    .add_node(t1) \\\n",
    "    .add_node(weather_code) \\\n",
    "    .add_node(number) \\\n",
    "    .add_edge(Edge(is_holiday, number, EdgeType.DIRECTED)) \\\n",
    "    .add_edge(Edge(season, t1, EdgeType.DIRECTED)) \\\n",
    "    .add_edge(Edge(t1, weather_code, EdgeType.DIRECTED)) \\\n",
    "    .add_edge(Edge(weather_code, number, EdgeType.DIRECTED))\n",
    "\n",
    "# Convert the BBN to a join tree\n",
    "join_tree = InferenceController.apply(bbn)"
   ]
  },
  {
   "cell_type": "markdown",
   "id": "70dc8819",
   "metadata": {},
   "source": [
    "### Drawing graphs"
   ]
  },
  {
   "cell_type": "code",
   "execution_count": 28,
   "id": "3b93bcf7",
   "metadata": {},
   "outputs": [],
   "source": [
    "# for drawing graphs\n",
    "import networkx as nx \n",
    "# for drawing graphs\n",
    "import matplotlib.pyplot as plt"
   ]
  },
  {
   "cell_type": "code",
   "execution_count": 36,
   "id": "764ba1d4",
   "metadata": {},
   "outputs": [
    {
     "data": {
      "image/png": "[encoded data removed]",
      "text/plain": [
       "<Figure size 432x288 with 1 Axes>"
      ]
     },
     "metadata": {},
     "output_type": "display_data"
    }
   ],
   "source": [
    "# Set node positions\n",
    "pos = {0: (-1, 2), 1: (1, 20), 2: (1,10), 3: (1, 0), 4: (0, -2)}\n",
    "\n",
    "# Set options for graph looks\n",
    "options = {\n",
    "    \"font_size\": 16,\n",
    "    \"node_size\": 4000,\n",
    "    \"node_color\": \"white\",\n",
    "    \"edgecolors\": \"black\",\n",
    "    \"edge_color\": \"blue\",\n",
    "    \"linewidths\": 5,\n",
    "    \"width\": 5,}\n",
    "    \n",
    "# Generate graph\n",
    "n, d = bbn.to_nx_graph()\n",
    "nx.draw(n, with_labels=True, labels=d, pos=pos, **options)\n",
    "\n",
    "# Update margins and print the graph\n",
    "ax = plt.gca()\n",
    "ax.margins(0.10)\n",
    "plt.axis(\"off\")\n",
    "plt.show()"
   ]
  },
  {
   "cell_type": "code",
   "execution_count": null,
   "id": "cb551b7f",
   "metadata": {},
   "outputs": [],
   "source": [
    "# Define a function for printing marginal probabilities\n",
    "def print_probs():\n",
    "    for node in join_tree.get_bbn_nodes():\n",
    "        potential = join_tree.get_bbn_potential(node)\n",
    "        print(\"Node:\", node)\n",
    "        print(\"Values:\")\n",
    "        print(potential)\n",
    "        print('----------------')\n",
    "        \n",
    "# Use the above function to print marginal probabilities\n",
    "print_probs()"
   ]
  },
  {
   "cell_type": "markdown",
   "id": "51815bc7",
   "metadata": {},
   "source": [
    "### Use pandas for data manipulation"
   ]
  },
  {
   "cell_type": "code",
   "execution_count": 13,
   "id": "d5fde361",
   "metadata": {},
   "outputs": [],
   "source": [
    "import pandas as pd\n",
    "from pgmpy.models import BayesianModel\n",
    "from pgmpy.estimators import MaximumLikelihoodEstimator,BayesianEstimator"
   ]
  },
  {
   "cell_type": "markdown",
   "id": "6548d243",
   "metadata": {},
   "source": [
    "- Add the Bayesian network"
   ]
  },
  {
   "cell_type": "code",
   "execution_count": null,
   "id": "df07b3ef",
   "metadata": {},
   "outputs": [
    {
     "name": "stderr",
     "output_type": "stream",
     "text": [
      "/Users/hchae/opt/anaconda3/lib/python3.8/site-packages/pgmpy/models/BayesianModel.py:8: FutureWarning: BayesianModel has been renamed to BayesianNetwork. Please use BayesianNewtork class, BayesianModel will be removed in future.\n",
      "  warnings.warn(\n"
     ]
    }
   ],
   "source": [
    "model = BayesianModel([(\"season\",\"t1\"),\n",
    "                       (\"season\",\"hum\"),\n",
    "                       (\"season\",\"wind_speed\"),\n",
    "                       (\"t1\",\"weather_code\"),\n",
    "                       (\"hum\",\"weather_code\"),\n",
    "                       (\"wind_speed\",\"weather_code\"),\n",
    "                       (\"weather_code\",\"cnt\"),\n",
    "                       (\"is_weekend\",\"cnt\"),\n",
    "                       (\"is_holiday\",\"cnt\")])\n",
    "\n",
    "model.fit(dataset, estimator = MaximumLikelihoodEstimator)"
   ]
  },
  {
   "cell_type": "code",
   "execution_count": 46,
   "id": "749384bd",
   "metadata": {},
   "outputs": [],
   "source": []
  },
  {
   "cell_type": "code",
   "execution_count": null,
   "id": "ab24a9d5",
   "metadata": {},
   "outputs": [],
   "source": [
    "# calculate individual prob\n",
    "print(model.get_cpds('t1'))"
   ]
  },
  {
   "cell_type": "code",
   "execution_count": null,
   "id": "7a5366dd",
   "metadata": {},
   "outputs": [],
   "source": [
    "print"
   ]
  },
  {
   "cell_type": "code",
   "execution_count": null,
   "id": "9e9b63a6",
   "metadata": {},
   "outputs": [],
   "source": []
  }
 ],
 "metadata": {
  "kernelspec": {
   "display_name": "Python 3",
   "language": "python",
   "name": "python3"
  },
  "language_info": {
   "codemirror_mode": {
    "name": "ipython",
    "version": 3
   },
   "file_extension": ".py",
   "mimetype": "text/x-python",
   "name": "python",
   "nbconvert_exporter": "python",
   "pygments_lexer": "ipython3",
   "version": "3.8.8"
  }
 },
 "nbformat": 4,
 "nbformat_minor": 5
}
