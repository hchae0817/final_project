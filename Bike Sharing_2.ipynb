{
 "cells": [
  {
   "cell_type": "markdown",
   "id": "10a623aa",
   "metadata": {},
   "source": [
    "# Final Project\n",
    "## Machine Learning: Prediction on bike sharing demand"
   ]
  },
  {
   "cell_type": "markdown",
   "id": "863aa957",
   "metadata": {},
   "source": [
    "- Check where the file locate"
   ]
  },
  {
   "cell_type": "code",
   "execution_count": 1,
   "id": "3c79512c",
   "metadata": {},
   "outputs": [
    {
     "data": {
      "text/plain": [
       "'/Users/hchae/Desktop'"
      ]
     },
     "execution_count": 1,
     "metadata": {},
     "output_type": "execute_result"
    }
   ],
   "source": [
    "pwd"
   ]
  },
  {
   "cell_type": "code",
   "execution_count": 1,
   "id": "be59a004",
   "metadata": {},
   "outputs": [],
   "source": [
    "# Import\n",
    "\n",
    "import folium\n",
    "from folium.plugins import MarkerCluster\n",
    "\n",
    "import numpy as np\n",
    "import pandas as pd\n",
    "import datetime as dt\n",
    "import matplotlib.pyplot as plt"
   ]
  },
  {
   "cell_type": "markdown",
   "id": "55c655f9",
   "metadata": {},
   "source": [
    "### Importing the Dataset"
   ]
  },
  {
   "cell_type": "code",
   "execution_count": 2,
   "id": "b2c43303",
   "metadata": {},
   "outputs": [],
   "source": [
    "#dataset = pd.read_csv(\"123JourneyDataExtract15Aug2018-21Aug2018.csv\")\n",
    "\n",
    "dataset = pd.read_csv(\n",
    "  \"123JourneyDataExtract15Aug2018-21Aug2018.csv\", \n",
    "  parse_dates = ['Start Date'], \n",
    "  index_col = \"Start Date\"\n",
    ")"
   ]
  },
  {
   "cell_type": "code",
   "execution_count": 3,
   "id": "f953a869",
   "metadata": {},
   "outputs": [
    {
     "data": {
      "text/plain": [
       "Rental Id             int64\n",
       "Duration              int64\n",
       "Bike Id               int64\n",
       "End Date             object\n",
       "EndStation Id         int64\n",
       "EndStation Name      object\n",
       "StartStation Id       int64\n",
       "StartStation Name    object\n",
       "dtype: object"
      ]
     },
     "execution_count": 3,
     "metadata": {},
     "output_type": "execute_result"
    }
   ],
   "source": [
    "dataset.dtypes"
   ]
  },
  {
   "cell_type": "markdown",
   "id": "327a27f2",
   "metadata": {},
   "source": [
    "### Create extra column\n",
    "#### Create hour, date, day_of_week and month dataframe column from start date column"
   ]
  },
  {
   "cell_type": "code",
   "execution_count": 5,
   "id": "df138859",
   "metadata": {},
   "outputs": [],
   "source": [
    "# This has been added to compute isWeekday\n",
    "\n",
    "dataset['date'] = dataset.index.day\n",
    "dataset['month'] = dataset.index.month\n",
    "dataset['year'] = dataset.index.year\n",
    "dataset['hour'] = dataset.index.hour\n",
    "dataset['minute'] = dataset.index.minute\n",
    "\n",
    "date = dataset['date'].values\n",
    "month = dataset['month'].values\n",
    "year = dataset['year'].values\n",
    "hour = dataset['hour'].values\n",
    "minute = dataset['minute'].values"
   ]
  },
  {
   "cell_type": "code",
   "execution_count": 6,
   "id": "ffba0b43",
   "metadata": {},
   "outputs": [
    {
     "data": {
      "text/plain": [
       "Start Date\n",
       "2018-08-20 12:14:00    20\n",
       "2018-08-16 08:22:00    16\n",
       "2018-08-20 14:24:00    20\n",
       "2018-08-17 00:01:00    17\n",
       "2018-08-21 10:22:00    21\n",
       "Name: date, dtype: int64"
      ]
     },
     "execution_count": 6,
     "metadata": {},
     "output_type": "execute_result"
    }
   ],
   "source": [
    "dataset['date'].head()"
   ]
  },
  {
   "cell_type": "markdown",
   "id": "145d49e2",
   "metadata": {},
   "source": [
    "### Add Longitude and Latitude for the station location\n",
    "\n",
    "##### Make sure to change range(number)\n",
    "##### something like dataset['StartStation Id'].number"
   ]
  },
  {
   "cell_type": "code",
   "execution_count": 5,
   "id": "d6256541",
   "metadata": {},
   "outputs": [],
   "source": [
    "location = pd.read_csv(\"Cycle hire docking stations.csv\")"
   ]
  },
  {
   "cell_type": "code",
   "execution_count": 11,
   "id": "5aed85a0",
   "metadata": {
    "collapsed": true
   },
   "outputs": [
    {
     "name": "stderr",
     "output_type": "stream",
     "text": [
      "<ipython-input-11-bdb453401523>:11: SettingWithCopyWarning: \n",
      "A value is trying to be set on a copy of a slice from a DataFrame\n",
      "\n",
      "See the caveats in the documentation: https://pandas.pydata.org/pandas-docs/stable/user_guide/indexing.html#returning-a-view-versus-a-copy\n",
      "  dataset['start_log'][cnt] = location['longitude'][loc_cnt]\n",
      "<ipython-input-11-bdb453401523>:12: SettingWithCopyWarning: \n",
      "A value is trying to be set on a copy of a slice from a DataFrame\n",
      "\n",
      "See the caveats in the documentation: https://pandas.pydata.org/pandas-docs/stable/user_guide/indexing.html#returning-a-view-versus-a-copy\n",
      "  dataset['start_lat'][cnt] = location['latitude'][loc_cnt]\n"
     ]
    }
   ],
   "source": [
    "# for start station id\n",
    "\n",
    "cnt = 0\n",
    "loc_cnt = 0\n",
    "\n",
    "for cnt in range(1000):\n",
    "    data = dataset['StartStation Id'][cnt]\n",
    "    for loc_cnt in range(802):\n",
    "        loc = location['Station.Id'][loc_cnt]\n",
    "        if (data - loc) == 0:\n",
    "            dataset['start_log'][cnt] = location['longitude'][loc_cnt]\n",
    "            dataset['start_lat'][cnt] = location['latitude'][loc_cnt]   \n",
    "            #print (dataset['start_log'][cnt])\n",
    "    loc_cnt = -1\n",
    "    \n",
    "cnt += 1\n",
    "loc_cnt += 1"
   ]
  },
  {
   "cell_type": "code",
   "execution_count": 13,
   "id": "3dbf8b26",
   "metadata": {
    "collapsed": true
   },
   "outputs": [
    {
     "ename": "KeyError",
     "evalue": "'end_log'",
     "output_type": "error",
     "traceback": [
      "\u001b[0;31m---------------------------------------------------------------------------\u001b[0m",
      "\u001b[0;31mKeyError\u001b[0m                                  Traceback (most recent call last)",
      "\u001b[0;32m~/opt/anaconda3/lib/python3.8/site-packages/pandas/core/indexes/base.py\u001b[0m in \u001b[0;36mget_loc\u001b[0;34m(self, key, method, tolerance)\u001b[0m\n\u001b[1;32m   3079\u001b[0m             \u001b[0;32mtry\u001b[0m\u001b[0;34m:\u001b[0m\u001b[0;34m\u001b[0m\u001b[0;34m\u001b[0m\u001b[0m\n\u001b[0;32m-> 3080\u001b[0;31m                 \u001b[0;32mreturn\u001b[0m \u001b[0mself\u001b[0m\u001b[0;34m.\u001b[0m\u001b[0m_engine\u001b[0m\u001b[0;34m.\u001b[0m\u001b[0mget_loc\u001b[0m\u001b[0;34m(\u001b[0m\u001b[0mcasted_key\u001b[0m\u001b[0;34m)\u001b[0m\u001b[0;34m\u001b[0m\u001b[0;34m\u001b[0m\u001b[0m\n\u001b[0m\u001b[1;32m   3081\u001b[0m             \u001b[0;32mexcept\u001b[0m \u001b[0mKeyError\u001b[0m \u001b[0;32mas\u001b[0m \u001b[0merr\u001b[0m\u001b[0;34m:\u001b[0m\u001b[0;34m\u001b[0m\u001b[0;34m\u001b[0m\u001b[0m\n",
      "\u001b[0;32mpandas/_libs/index.pyx\u001b[0m in \u001b[0;36mpandas._libs.index.IndexEngine.get_loc\u001b[0;34m()\u001b[0m\n",
      "\u001b[0;32mpandas/_libs/index.pyx\u001b[0m in \u001b[0;36mpandas._libs.index.IndexEngine.get_loc\u001b[0;34m()\u001b[0m\n",
      "\u001b[0;32mpandas/_libs/hashtable_class_helper.pxi\u001b[0m in \u001b[0;36mpandas._libs.hashtable.PyObjectHashTable.get_item\u001b[0;34m()\u001b[0m\n",
      "\u001b[0;32mpandas/_libs/hashtable_class_helper.pxi\u001b[0m in \u001b[0;36mpandas._libs.hashtable.PyObjectHashTable.get_item\u001b[0;34m()\u001b[0m\n",
      "\u001b[0;31mKeyError\u001b[0m: 'end_log'",
      "\nThe above exception was the direct cause of the following exception:\n",
      "\u001b[0;31mKeyError\u001b[0m                                  Traceback (most recent call last)",
      "\u001b[0;32m<ipython-input-13-7a9b4acc6dfc>\u001b[0m in \u001b[0;36m<module>\u001b[0;34m\u001b[0m\n\u001b[1;32m      9\u001b[0m         \u001b[0mloc\u001b[0m \u001b[0;34m=\u001b[0m \u001b[0mlocation\u001b[0m\u001b[0;34m[\u001b[0m\u001b[0;34m'Station.Id'\u001b[0m\u001b[0;34m]\u001b[0m\u001b[0;34m[\u001b[0m\u001b[0mloc_cnt\u001b[0m\u001b[0;34m]\u001b[0m\u001b[0;34m\u001b[0m\u001b[0;34m\u001b[0m\u001b[0m\n\u001b[1;32m     10\u001b[0m         \u001b[0;32mif\u001b[0m \u001b[0;34m(\u001b[0m\u001b[0mdata\u001b[0m \u001b[0;34m-\u001b[0m \u001b[0mloc\u001b[0m\u001b[0;34m)\u001b[0m \u001b[0;34m==\u001b[0m \u001b[0;36m0\u001b[0m\u001b[0;34m:\u001b[0m\u001b[0;34m\u001b[0m\u001b[0;34m\u001b[0m\u001b[0m\n\u001b[0;32m---> 11\u001b[0;31m             \u001b[0mdataset\u001b[0m\u001b[0;34m[\u001b[0m\u001b[0;34m'end_log'\u001b[0m\u001b[0;34m]\u001b[0m\u001b[0;34m[\u001b[0m\u001b[0mcnt\u001b[0m\u001b[0;34m]\u001b[0m \u001b[0;34m=\u001b[0m \u001b[0mlocation\u001b[0m\u001b[0;34m[\u001b[0m\u001b[0;34m'longitude'\u001b[0m\u001b[0;34m]\u001b[0m\u001b[0;34m[\u001b[0m\u001b[0mloc_cnt\u001b[0m\u001b[0;34m]\u001b[0m\u001b[0;34m\u001b[0m\u001b[0;34m\u001b[0m\u001b[0m\n\u001b[0m\u001b[1;32m     12\u001b[0m             \u001b[0mdataset\u001b[0m\u001b[0;34m[\u001b[0m\u001b[0;34m'end_lat'\u001b[0m\u001b[0;34m]\u001b[0m\u001b[0;34m[\u001b[0m\u001b[0mcnt\u001b[0m\u001b[0;34m]\u001b[0m \u001b[0;34m=\u001b[0m \u001b[0mlocation\u001b[0m\u001b[0;34m[\u001b[0m\u001b[0;34m'latitude'\u001b[0m\u001b[0;34m]\u001b[0m\u001b[0;34m[\u001b[0m\u001b[0mloc_cnt\u001b[0m\u001b[0;34m]\u001b[0m\u001b[0;34m\u001b[0m\u001b[0;34m\u001b[0m\u001b[0m\n\u001b[1;32m     13\u001b[0m     \u001b[0mloc_cnt\u001b[0m \u001b[0;34m=\u001b[0m \u001b[0;34m-\u001b[0m\u001b[0;36m1\u001b[0m\u001b[0;34m\u001b[0m\u001b[0;34m\u001b[0m\u001b[0m\n",
      "\u001b[0;32m~/opt/anaconda3/lib/python3.8/site-packages/pandas/core/frame.py\u001b[0m in \u001b[0;36m__getitem__\u001b[0;34m(self, key)\u001b[0m\n\u001b[1;32m   3022\u001b[0m             \u001b[0;32mif\u001b[0m \u001b[0mself\u001b[0m\u001b[0;34m.\u001b[0m\u001b[0mcolumns\u001b[0m\u001b[0;34m.\u001b[0m\u001b[0mnlevels\u001b[0m \u001b[0;34m>\u001b[0m \u001b[0;36m1\u001b[0m\u001b[0;34m:\u001b[0m\u001b[0;34m\u001b[0m\u001b[0;34m\u001b[0m\u001b[0m\n\u001b[1;32m   3023\u001b[0m                 \u001b[0;32mreturn\u001b[0m \u001b[0mself\u001b[0m\u001b[0;34m.\u001b[0m\u001b[0m_getitem_multilevel\u001b[0m\u001b[0;34m(\u001b[0m\u001b[0mkey\u001b[0m\u001b[0;34m)\u001b[0m\u001b[0;34m\u001b[0m\u001b[0;34m\u001b[0m\u001b[0m\n\u001b[0;32m-> 3024\u001b[0;31m             \u001b[0mindexer\u001b[0m \u001b[0;34m=\u001b[0m \u001b[0mself\u001b[0m\u001b[0;34m.\u001b[0m\u001b[0mcolumns\u001b[0m\u001b[0;34m.\u001b[0m\u001b[0mget_loc\u001b[0m\u001b[0;34m(\u001b[0m\u001b[0mkey\u001b[0m\u001b[0;34m)\u001b[0m\u001b[0;34m\u001b[0m\u001b[0;34m\u001b[0m\u001b[0m\n\u001b[0m\u001b[1;32m   3025\u001b[0m             \u001b[0;32mif\u001b[0m \u001b[0mis_integer\u001b[0m\u001b[0;34m(\u001b[0m\u001b[0mindexer\u001b[0m\u001b[0;34m)\u001b[0m\u001b[0;34m:\u001b[0m\u001b[0;34m\u001b[0m\u001b[0;34m\u001b[0m\u001b[0m\n\u001b[1;32m   3026\u001b[0m                 \u001b[0mindexer\u001b[0m \u001b[0;34m=\u001b[0m \u001b[0;34m[\u001b[0m\u001b[0mindexer\u001b[0m\u001b[0;34m]\u001b[0m\u001b[0;34m\u001b[0m\u001b[0;34m\u001b[0m\u001b[0m\n",
      "\u001b[0;32m~/opt/anaconda3/lib/python3.8/site-packages/pandas/core/indexes/base.py\u001b[0m in \u001b[0;36mget_loc\u001b[0;34m(self, key, method, tolerance)\u001b[0m\n\u001b[1;32m   3080\u001b[0m                 \u001b[0;32mreturn\u001b[0m \u001b[0mself\u001b[0m\u001b[0;34m.\u001b[0m\u001b[0m_engine\u001b[0m\u001b[0;34m.\u001b[0m\u001b[0mget_loc\u001b[0m\u001b[0;34m(\u001b[0m\u001b[0mcasted_key\u001b[0m\u001b[0;34m)\u001b[0m\u001b[0;34m\u001b[0m\u001b[0;34m\u001b[0m\u001b[0m\n\u001b[1;32m   3081\u001b[0m             \u001b[0;32mexcept\u001b[0m \u001b[0mKeyError\u001b[0m \u001b[0;32mas\u001b[0m \u001b[0merr\u001b[0m\u001b[0;34m:\u001b[0m\u001b[0;34m\u001b[0m\u001b[0;34m\u001b[0m\u001b[0m\n\u001b[0;32m-> 3082\u001b[0;31m                 \u001b[0;32mraise\u001b[0m \u001b[0mKeyError\u001b[0m\u001b[0;34m(\u001b[0m\u001b[0mkey\u001b[0m\u001b[0;34m)\u001b[0m \u001b[0;32mfrom\u001b[0m \u001b[0merr\u001b[0m\u001b[0;34m\u001b[0m\u001b[0;34m\u001b[0m\u001b[0m\n\u001b[0m\u001b[1;32m   3083\u001b[0m \u001b[0;34m\u001b[0m\u001b[0m\n\u001b[1;32m   3084\u001b[0m         \u001b[0;32mif\u001b[0m \u001b[0mtolerance\u001b[0m \u001b[0;32mis\u001b[0m \u001b[0;32mnot\u001b[0m \u001b[0;32mNone\u001b[0m\u001b[0;34m:\u001b[0m\u001b[0;34m\u001b[0m\u001b[0;34m\u001b[0m\u001b[0m\n",
      "\u001b[0;31mKeyError\u001b[0m: 'end_log'"
     ]
    }
   ],
   "source": [
    "# for end station id\n",
    "\n",
    "cnt = 0\n",
    "loc_cnt = 0\n",
    "\n",
    "for cnt in range(1000):\n",
    "    data = dataset['EndStation Id'][cnt]\n",
    "    for loc_cnt in range(802):\n",
    "        loc = location['Station.Id'][loc_cnt]\n",
    "        if (data - loc) == 0:\n",
    "            dataset['end_log'][cnt] = location['longitude'][loc_cnt]\n",
    "            dataset['end_lat'][cnt] = location['latitude'][loc_cnt]   \n",
    "    loc_cnt = -1\n",
    "    \n",
    "cnt += 1\n",
    "loc_cnt += 1"
   ]
  },
  {
   "cell_type": "markdown",
   "id": "d1efffd0",
   "metadata": {},
   "source": [
    "### After the columns been added"
   ]
  },
  {
   "cell_type": "code",
   "execution_count": 4,
   "id": "0b598ea1",
   "metadata": {},
   "outputs": [
    {
     "data": {
      "text/html": [
       "<div>\n",
       "<style scoped>\n",
       "    .dataframe tbody tr th:only-of-type {\n",
       "        vertical-align: middle;\n",
       "    }\n",
       "\n",
       "    .dataframe tbody tr th {\n",
       "        vertical-align: top;\n",
       "    }\n",
       "\n",
       "    .dataframe thead th {\n",
       "        text-align: right;\n",
       "    }\n",
       "</style>\n",
       "<table border=\"1\" class=\"dataframe\">\n",
       "  <thead>\n",
       "    <tr style=\"text-align: right;\">\n",
       "      <th></th>\n",
       "      <th>Rental Id</th>\n",
       "      <th>Duration</th>\n",
       "      <th>Bike Id</th>\n",
       "      <th>End Date</th>\n",
       "      <th>EndStation Id</th>\n",
       "      <th>EndStation Name</th>\n",
       "      <th>StartStation Id</th>\n",
       "      <th>StartStation Name</th>\n",
       "    </tr>\n",
       "    <tr>\n",
       "      <th>Start Date</th>\n",
       "      <th></th>\n",
       "      <th></th>\n",
       "      <th></th>\n",
       "      <th></th>\n",
       "      <th></th>\n",
       "      <th></th>\n",
       "      <th></th>\n",
       "      <th></th>\n",
       "    </tr>\n",
       "  </thead>\n",
       "  <tbody>\n",
       "    <tr>\n",
       "      <th>2018-08-20 12:14:00</th>\n",
       "      <td>79466053</td>\n",
       "      <td>1260</td>\n",
       "      <td>3133</td>\n",
       "      <td>20/08/2018 12:35</td>\n",
       "      <td>103</td>\n",
       "      <td>Vicarage Gate, Kensington</td>\n",
       "      <td>754</td>\n",
       "      <td>Grenfell Road, Avondale</td>\n",
       "    </tr>\n",
       "    <tr>\n",
       "      <th>2018-08-16 08:22:00</th>\n",
       "      <td>79325170</td>\n",
       "      <td>1200</td>\n",
       "      <td>13603</td>\n",
       "      <td>16/08/2018 08:42</td>\n",
       "      <td>83</td>\n",
       "      <td>Panton Street, West End</td>\n",
       "      <td>669</td>\n",
       "      <td>Teversham Lane, Stockwell</td>\n",
       "    </tr>\n",
       "    <tr>\n",
       "      <th>2018-08-20 14:24:00</th>\n",
       "      <td>79469808</td>\n",
       "      <td>1080</td>\n",
       "      <td>13368</td>\n",
       "      <td>20/08/2018 14:42</td>\n",
       "      <td>115</td>\n",
       "      <td>Braham Street, Aldgate</td>\n",
       "      <td>101</td>\n",
       "      <td>Queen Street 1, Bank</td>\n",
       "    </tr>\n",
       "    <tr>\n",
       "      <th>2018-08-17 00:01:00</th>\n",
       "      <td>79348433</td>\n",
       "      <td>600</td>\n",
       "      <td>13965</td>\n",
       "      <td>17/08/2018 00:11</td>\n",
       "      <td>616</td>\n",
       "      <td>Aintree Street, Fulham</td>\n",
       "      <td>37</td>\n",
       "      <td>Penywern Road, Earl's Court</td>\n",
       "    </tr>\n",
       "    <tr>\n",
       "      <th>2018-08-21 10:22:00</th>\n",
       "      <td>79503786</td>\n",
       "      <td>4680</td>\n",
       "      <td>12965</td>\n",
       "      <td>21/08/2018 11:40</td>\n",
       "      <td>446</td>\n",
       "      <td>York Hall, Bethnal Green</td>\n",
       "      <td>101</td>\n",
       "      <td>Queen Street 1, Bank</td>\n",
       "    </tr>\n",
       "    <tr>\n",
       "      <th>...</th>\n",
       "      <td>...</td>\n",
       "      <td>...</td>\n",
       "      <td>...</td>\n",
       "      <td>...</td>\n",
       "      <td>...</td>\n",
       "      <td>...</td>\n",
       "      <td>...</td>\n",
       "      <td>...</td>\n",
       "    </tr>\n",
       "    <tr>\n",
       "      <th>2018-08-18 11:50:00</th>\n",
       "      <td>79393704</td>\n",
       "      <td>720</td>\n",
       "      <td>10792</td>\n",
       "      <td>18/08/2018 12:02</td>\n",
       "      <td>236</td>\n",
       "      <td>Fashion Street, Whitechapel</td>\n",
       "      <td>531</td>\n",
       "      <td>Twig Folly Bridge, Mile End</td>\n",
       "    </tr>\n",
       "    <tr>\n",
       "      <th>2018-08-20 08:28:00</th>\n",
       "      <td>79458279</td>\n",
       "      <td>2280</td>\n",
       "      <td>3500</td>\n",
       "      <td>20/08/2018 09:06</td>\n",
       "      <td>254</td>\n",
       "      <td>Chadwell Street, Angel</td>\n",
       "      <td>499</td>\n",
       "      <td>Furze Green, Bow</td>\n",
       "    </tr>\n",
       "    <tr>\n",
       "      <th>2018-08-18 10:09:00</th>\n",
       "      <td>79390430</td>\n",
       "      <td>3300</td>\n",
       "      <td>10125</td>\n",
       "      <td>18/08/2018 11:04</td>\n",
       "      <td>404</td>\n",
       "      <td>Palace Gate, Kensington Gardens</td>\n",
       "      <td>350</td>\n",
       "      <td>Queen's Gate, Kensington Gardens</td>\n",
       "    </tr>\n",
       "    <tr>\n",
       "      <th>2018-08-18 11:28:00</th>\n",
       "      <td>79392872</td>\n",
       "      <td>3060</td>\n",
       "      <td>3978</td>\n",
       "      <td>18/08/2018 12:19</td>\n",
       "      <td>404</td>\n",
       "      <td>Palace Gate, Kensington Gardens</td>\n",
       "      <td>350</td>\n",
       "      <td>Queen's Gate, Kensington Gardens</td>\n",
       "    </tr>\n",
       "    <tr>\n",
       "      <th>2018-08-21 12:57:00</th>\n",
       "      <td>79507558</td>\n",
       "      <td>1740</td>\n",
       "      <td>12315</td>\n",
       "      <td>21/08/2018 13:26</td>\n",
       "      <td>379</td>\n",
       "      <td>Turquoise Island, Notting Hill</td>\n",
       "      <td>116</td>\n",
       "      <td>Little Argyll Street, West End</td>\n",
       "    </tr>\n",
       "  </tbody>\n",
       "</table>\n",
       "<p>245623 rows × 8 columns</p>\n",
       "</div>"
      ],
      "text/plain": [
       "                     Rental Id  Duration  Bike Id          End Date  \\\n",
       "Start Date                                                            \n",
       "2018-08-20 12:14:00   79466053      1260     3133  20/08/2018 12:35   \n",
       "2018-08-16 08:22:00   79325170      1200    13603  16/08/2018 08:42   \n",
       "2018-08-20 14:24:00   79469808      1080    13368  20/08/2018 14:42   \n",
       "2018-08-17 00:01:00   79348433       600    13965  17/08/2018 00:11   \n",
       "2018-08-21 10:22:00   79503786      4680    12965  21/08/2018 11:40   \n",
       "...                        ...       ...      ...               ...   \n",
       "2018-08-18 11:50:00   79393704       720    10792  18/08/2018 12:02   \n",
       "2018-08-20 08:28:00   79458279      2280     3500  20/08/2018 09:06   \n",
       "2018-08-18 10:09:00   79390430      3300    10125  18/08/2018 11:04   \n",
       "2018-08-18 11:28:00   79392872      3060     3978  18/08/2018 12:19   \n",
       "2018-08-21 12:57:00   79507558      1740    12315  21/08/2018 13:26   \n",
       "\n",
       "                     EndStation Id                  EndStation Name  \\\n",
       "Start Date                                                            \n",
       "2018-08-20 12:14:00            103        Vicarage Gate, Kensington   \n",
       "2018-08-16 08:22:00             83          Panton Street, West End   \n",
       "2018-08-20 14:24:00            115           Braham Street, Aldgate   \n",
       "2018-08-17 00:01:00            616           Aintree Street, Fulham   \n",
       "2018-08-21 10:22:00            446         York Hall, Bethnal Green   \n",
       "...                            ...                              ...   \n",
       "2018-08-18 11:50:00            236      Fashion Street, Whitechapel   \n",
       "2018-08-20 08:28:00            254           Chadwell Street, Angel   \n",
       "2018-08-18 10:09:00            404  Palace Gate, Kensington Gardens   \n",
       "2018-08-18 11:28:00            404  Palace Gate, Kensington Gardens   \n",
       "2018-08-21 12:57:00            379   Turquoise Island, Notting Hill   \n",
       "\n",
       "                     StartStation Id                 StartStation Name  \n",
       "Start Date                                                              \n",
       "2018-08-20 12:14:00              754           Grenfell Road, Avondale  \n",
       "2018-08-16 08:22:00              669         Teversham Lane, Stockwell  \n",
       "2018-08-20 14:24:00              101              Queen Street 1, Bank  \n",
       "2018-08-17 00:01:00               37       Penywern Road, Earl's Court  \n",
       "2018-08-21 10:22:00              101              Queen Street 1, Bank  \n",
       "...                              ...                               ...  \n",
       "2018-08-18 11:50:00              531       Twig Folly Bridge, Mile End  \n",
       "2018-08-20 08:28:00              499                  Furze Green, Bow  \n",
       "2018-08-18 10:09:00              350  Queen's Gate, Kensington Gardens  \n",
       "2018-08-18 11:28:00              350  Queen's Gate, Kensington Gardens  \n",
       "2018-08-21 12:57:00              116    Little Argyll Street, West End  \n",
       "\n",
       "[245623 rows x 8 columns]"
      ]
     },
     "execution_count": 4,
     "metadata": {},
     "output_type": "execute_result"
    }
   ],
   "source": [
    "dataset"
   ]
  },
  {
   "cell_type": "markdown",
   "id": "2256dc0a",
   "metadata": {},
   "source": [
    "### Looking for outliers"
   ]
  },
  {
   "cell_type": "code",
   "execution_count": null,
   "id": "24aa8da7",
   "metadata": {},
   "outputs": [],
   "source": [
    "fig, ax = plt.subplots(1, 1, figsize = (6, 4))\n",
    "sns.distplot(dataset['Duration'], hist = False, ax = ax)"
   ]
  },
  {
   "cell_type": "markdown",
   "id": "9d0924bc",
   "metadata": {},
   "source": [
    "### Looking for invalid journeys"
   ]
  },
  {
   "cell_type": "code",
   "execution_count": 7,
   "id": "ad2e1610",
   "metadata": {},
   "outputs": [],
   "source": [
    "start_id = dataset['StartStation Id'].values\n",
    "end_id = dataset['EndStation Id'].values\n",
    "start_station = dataset['StartStation Name'].values\n",
    "end_station = dataset['EndStation Name'].values"
   ]
  },
  {
   "cell_type": "code",
   "execution_count": 19,
   "id": "b05412d0",
   "metadata": {},
   "outputs": [],
   "source": [
    "# Extract only valid journeys\n",
    "\n",
    "valid = np.zeros(len(date))\n",
    "valid[:] = False\n",
    "cnt = 0\n",
    "\n",
    "for _start, _end in zip(start_id, end_id):\n",
    "  if np.logical_and((_start in start_id), (_end in end_id)):\n",
    "    valid[cnt] = True\n",
    "  cnt += 1\n",
    "\n",
    "dataset['Valid'] = valid"
   ]
  },
  {
   "cell_type": "code",
   "execution_count": 43,
   "id": "7da10822",
   "metadata": {},
   "outputs": [
    {
     "name": "stdout",
     "output_type": "stream",
     "text": [
      "Ratio of valid journeys= 100.00%\n"
     ]
    }
   ],
   "source": [
    "# Only keep valid journeys\n",
    "\n",
    "df = dataset[dataset[\"Valid\"] == True].drop(columns=\"Valid\")\n",
    "\n",
    "print('Ratio of valid journeys= {:.2f}%'.format(df.shape[0] / dataset.shape[0] * 100))"
   ]
  },
  {
   "cell_type": "markdown",
   "id": "ae933fb0",
   "metadata": {},
   "source": [
    "## Try to find a way you can add 'cnt' to this dataset\n",
    "- Capacity\n",
    "- Originial no of bike at noon\n"
   ]
  },
  {
   "cell_type": "markdown",
   "id": "bb54c76e",
   "metadata": {},
   "source": [
    "## Plot a graph"
   ]
  },
  {
   "cell_type": "markdown",
   "id": "09a49a1a",
   "metadata": {},
   "source": [
    "### Plot hours and duration \"cnt if possible\" on IsWeekday"
   ]
  },
  {
   "cell_type": "markdown",
   "id": "3a69d985",
   "metadata": {},
   "source": [
    "#### Compute IsWeekday"
   ]
  },
  {
   "cell_type": "code",
   "execution_count": 35,
   "id": "fab3687f",
   "metadata": {},
   "outputs": [],
   "source": [
    "# Compute IsWeekday\n",
    "\n",
    "weekday = np.zeros(len(date))\n",
    "weekday[:] = np.nan\n",
    "cnt = 0\n",
    "\n",
    "# Extract the weekday data by the date in the dataset.\n",
    "for _year, _month, _date, _hour, _minute in zip(year, month, date, hour, minute):\n",
    "  _dt = dt.datetime(_year, _month, _date, _hour, _minute)\n",
    "  _weekday = _dt.weekday()\n",
    "  weekday[cnt] = _weekday\n",
    "  cnt += 1\n",
    "\n",
    "IsWeekday = weekday < 5\n",
    "dataset['IsWeekday'] = IsWeekday\n",
    "\n",
    "# Compute TimeSlice\n",
    "# Evenly divide a 24-hour day into 72 time slices\n",
    "# Each TimeSlice represents a 20-minute interval.\n",
    "\n",
    "dataset['TimeSlice'] = (hour * 3 + np.floor(minute/30)).astype(int)"
   ]
  },
  {
   "cell_type": "code",
   "execution_count": 18,
   "id": "dc7b76de",
   "metadata": {},
   "outputs": [
    {
     "ename": "KeyError",
     "evalue": "'Start Date'",
     "output_type": "error",
     "traceback": [
      "\u001b[0;31m---------------------------------------------------------------------------\u001b[0m",
      "\u001b[0;31mKeyError\u001b[0m                                  Traceback (most recent call last)",
      "\u001b[0;32m~/opt/anaconda3/lib/python3.8/site-packages/pandas/core/indexes/base.py\u001b[0m in \u001b[0;36mget_loc\u001b[0;34m(self, key, method, tolerance)\u001b[0m\n\u001b[1;32m   3620\u001b[0m             \u001b[0;32mtry\u001b[0m\u001b[0;34m:\u001b[0m\u001b[0;34m\u001b[0m\u001b[0;34m\u001b[0m\u001b[0m\n\u001b[0;32m-> 3621\u001b[0;31m                 \u001b[0;32mreturn\u001b[0m \u001b[0mself\u001b[0m\u001b[0;34m.\u001b[0m\u001b[0m_engine\u001b[0m\u001b[0;34m.\u001b[0m\u001b[0mget_loc\u001b[0m\u001b[0;34m(\u001b[0m\u001b[0mcasted_key\u001b[0m\u001b[0;34m)\u001b[0m\u001b[0;34m\u001b[0m\u001b[0;34m\u001b[0m\u001b[0m\n\u001b[0m\u001b[1;32m   3622\u001b[0m             \u001b[0;32mexcept\u001b[0m \u001b[0mKeyError\u001b[0m \u001b[0;32mas\u001b[0m \u001b[0merr\u001b[0m\u001b[0;34m:\u001b[0m\u001b[0;34m\u001b[0m\u001b[0;34m\u001b[0m\u001b[0m\n",
      "\u001b[0;32m~/opt/anaconda3/lib/python3.8/site-packages/pandas/_libs/index.pyx\u001b[0m in \u001b[0;36mpandas._libs.index.IndexEngine.get_loc\u001b[0;34m()\u001b[0m\n",
      "\u001b[0;32m~/opt/anaconda3/lib/python3.8/site-packages/pandas/_libs/index.pyx\u001b[0m in \u001b[0;36mpandas._libs.index.IndexEngine.get_loc\u001b[0;34m()\u001b[0m\n",
      "\u001b[0;32mpandas/_libs/hashtable_class_helper.pxi\u001b[0m in \u001b[0;36mpandas._libs.hashtable.PyObjectHashTable.get_item\u001b[0;34m()\u001b[0m\n",
      "\u001b[0;32mpandas/_libs/hashtable_class_helper.pxi\u001b[0m in \u001b[0;36mpandas._libs.hashtable.PyObjectHashTable.get_item\u001b[0;34m()\u001b[0m\n",
      "\u001b[0;31mKeyError\u001b[0m: 'Start Date'",
      "\nThe above exception was the direct cause of the following exception:\n",
      "\u001b[0;31mKeyError\u001b[0m                                  Traceback (most recent call last)",
      "\u001b[0;32m<ipython-input-18-5d8bf8105fa2>\u001b[0m in \u001b[0;36m<module>\u001b[0;34m\u001b[0m\n\u001b[0;32m----> 1\u001b[0;31m \u001b[0mdataset\u001b[0m\u001b[0;34m[\u001b[0m\u001b[0;34m'Start Date'\u001b[0m\u001b[0;34m]\u001b[0m\u001b[0;34m\u001b[0m\u001b[0;34m\u001b[0m\u001b[0m\n\u001b[0m",
      "\u001b[0;32m~/opt/anaconda3/lib/python3.8/site-packages/pandas/core/frame.py\u001b[0m in \u001b[0;36m__getitem__\u001b[0;34m(self, key)\u001b[0m\n\u001b[1;32m   3504\u001b[0m             \u001b[0;32mif\u001b[0m \u001b[0mself\u001b[0m\u001b[0;34m.\u001b[0m\u001b[0mcolumns\u001b[0m\u001b[0;34m.\u001b[0m\u001b[0mnlevels\u001b[0m \u001b[0;34m>\u001b[0m \u001b[0;36m1\u001b[0m\u001b[0;34m:\u001b[0m\u001b[0;34m\u001b[0m\u001b[0;34m\u001b[0m\u001b[0m\n\u001b[1;32m   3505\u001b[0m                 \u001b[0;32mreturn\u001b[0m \u001b[0mself\u001b[0m\u001b[0;34m.\u001b[0m\u001b[0m_getitem_multilevel\u001b[0m\u001b[0;34m(\u001b[0m\u001b[0mkey\u001b[0m\u001b[0;34m)\u001b[0m\u001b[0;34m\u001b[0m\u001b[0;34m\u001b[0m\u001b[0m\n\u001b[0;32m-> 3506\u001b[0;31m             \u001b[0mindexer\u001b[0m \u001b[0;34m=\u001b[0m \u001b[0mself\u001b[0m\u001b[0;34m.\u001b[0m\u001b[0mcolumns\u001b[0m\u001b[0;34m.\u001b[0m\u001b[0mget_loc\u001b[0m\u001b[0;34m(\u001b[0m\u001b[0mkey\u001b[0m\u001b[0;34m)\u001b[0m\u001b[0;34m\u001b[0m\u001b[0;34m\u001b[0m\u001b[0m\n\u001b[0m\u001b[1;32m   3507\u001b[0m             \u001b[0;32mif\u001b[0m \u001b[0mis_integer\u001b[0m\u001b[0;34m(\u001b[0m\u001b[0mindexer\u001b[0m\u001b[0;34m)\u001b[0m\u001b[0;34m:\u001b[0m\u001b[0;34m\u001b[0m\u001b[0;34m\u001b[0m\u001b[0m\n\u001b[1;32m   3508\u001b[0m                 \u001b[0mindexer\u001b[0m \u001b[0;34m=\u001b[0m \u001b[0;34m[\u001b[0m\u001b[0mindexer\u001b[0m\u001b[0;34m]\u001b[0m\u001b[0;34m\u001b[0m\u001b[0;34m\u001b[0m\u001b[0m\n",
      "\u001b[0;32m~/opt/anaconda3/lib/python3.8/site-packages/pandas/core/indexes/base.py\u001b[0m in \u001b[0;36mget_loc\u001b[0;34m(self, key, method, tolerance)\u001b[0m\n\u001b[1;32m   3621\u001b[0m                 \u001b[0;32mreturn\u001b[0m \u001b[0mself\u001b[0m\u001b[0;34m.\u001b[0m\u001b[0m_engine\u001b[0m\u001b[0;34m.\u001b[0m\u001b[0mget_loc\u001b[0m\u001b[0;34m(\u001b[0m\u001b[0mcasted_key\u001b[0m\u001b[0;34m)\u001b[0m\u001b[0;34m\u001b[0m\u001b[0;34m\u001b[0m\u001b[0m\n\u001b[1;32m   3622\u001b[0m             \u001b[0;32mexcept\u001b[0m \u001b[0mKeyError\u001b[0m \u001b[0;32mas\u001b[0m \u001b[0merr\u001b[0m\u001b[0;34m:\u001b[0m\u001b[0;34m\u001b[0m\u001b[0;34m\u001b[0m\u001b[0m\n\u001b[0;32m-> 3623\u001b[0;31m                 \u001b[0;32mraise\u001b[0m \u001b[0mKeyError\u001b[0m\u001b[0;34m(\u001b[0m\u001b[0mkey\u001b[0m\u001b[0;34m)\u001b[0m \u001b[0;32mfrom\u001b[0m \u001b[0merr\u001b[0m\u001b[0;34m\u001b[0m\u001b[0;34m\u001b[0m\u001b[0m\n\u001b[0m\u001b[1;32m   3624\u001b[0m             \u001b[0;32mexcept\u001b[0m \u001b[0mTypeError\u001b[0m\u001b[0;34m:\u001b[0m\u001b[0;34m\u001b[0m\u001b[0;34m\u001b[0m\u001b[0m\n\u001b[1;32m   3625\u001b[0m                 \u001b[0;31m# If we have a listlike key, _check_indexing_error will raise\u001b[0m\u001b[0;34m\u001b[0m\u001b[0;34m\u001b[0m\u001b[0;34m\u001b[0m\u001b[0m\n",
      "\u001b[0;31mKeyError\u001b[0m: 'Start Date'"
     ]
    }
   ],
   "source": [
    "dataset['Start Date']"
   ]
  },
  {
   "cell_type": "code",
   "execution_count": 55,
   "id": "96346894",
   "metadata": {},
   "outputs": [
    {
     "data": {
      "text/html": [
       "<div>\n",
       "<style scoped>\n",
       "    .dataframe tbody tr th:only-of-type {\n",
       "        vertical-align: middle;\n",
       "    }\n",
       "\n",
       "    .dataframe tbody tr th {\n",
       "        vertical-align: top;\n",
       "    }\n",
       "\n",
       "    .dataframe thead th {\n",
       "        text-align: right;\n",
       "    }\n",
       "</style>\n",
       "<table border=\"1\" class=\"dataframe\">\n",
       "  <thead>\n",
       "    <tr style=\"text-align: right;\">\n",
       "      <th></th>\n",
       "      <th>StartStation Id</th>\n",
       "      <th>StartStation Name</th>\n",
       "    </tr>\n",
       "    <tr>\n",
       "      <th>Start Date</th>\n",
       "      <th></th>\n",
       "      <th></th>\n",
       "    </tr>\n",
       "  </thead>\n",
       "  <tbody>\n",
       "    <tr>\n",
       "      <th>2018-08-20 12:14:00</th>\n",
       "      <td>754</td>\n",
       "      <td>Grenfell Road, Avondale</td>\n",
       "    </tr>\n",
       "    <tr>\n",
       "      <th>2018-08-16 08:22:00</th>\n",
       "      <td>669</td>\n",
       "      <td>Teversham Lane, Stockwell</td>\n",
       "    </tr>\n",
       "    <tr>\n",
       "      <th>2018-08-20 14:24:00</th>\n",
       "      <td>101</td>\n",
       "      <td>Queen Street 1, Bank</td>\n",
       "    </tr>\n",
       "    <tr>\n",
       "      <th>2018-08-17 00:01:00</th>\n",
       "      <td>37</td>\n",
       "      <td>Penywern Road, Earl's Court</td>\n",
       "    </tr>\n",
       "    <tr>\n",
       "      <th>2018-08-21 10:22:00</th>\n",
       "      <td>101</td>\n",
       "      <td>Queen Street 1, Bank</td>\n",
       "    </tr>\n",
       "    <tr>\n",
       "      <th>...</th>\n",
       "      <td>...</td>\n",
       "      <td>...</td>\n",
       "    </tr>\n",
       "    <tr>\n",
       "      <th>2018-08-18 11:50:00</th>\n",
       "      <td>531</td>\n",
       "      <td>Twig Folly Bridge, Mile End</td>\n",
       "    </tr>\n",
       "    <tr>\n",
       "      <th>2018-08-20 08:28:00</th>\n",
       "      <td>499</td>\n",
       "      <td>Furze Green, Bow</td>\n",
       "    </tr>\n",
       "    <tr>\n",
       "      <th>2018-08-18 10:09:00</th>\n",
       "      <td>350</td>\n",
       "      <td>Queen's Gate, Kensington Gardens</td>\n",
       "    </tr>\n",
       "    <tr>\n",
       "      <th>2018-08-18 11:28:00</th>\n",
       "      <td>350</td>\n",
       "      <td>Queen's Gate, Kensington Gardens</td>\n",
       "    </tr>\n",
       "    <tr>\n",
       "      <th>2018-08-21 12:57:00</th>\n",
       "      <td>116</td>\n",
       "      <td>Little Argyll Street, West End</td>\n",
       "    </tr>\n",
       "  </tbody>\n",
       "</table>\n",
       "<p>245623 rows × 2 columns</p>\n",
       "</div>"
      ],
      "text/plain": [
       "                     StartStation Id                 StartStation Name\n",
       "Start Date                                                            \n",
       "2018-08-20 12:14:00              754           Grenfell Road, Avondale\n",
       "2018-08-16 08:22:00              669         Teversham Lane, Stockwell\n",
       "2018-08-20 14:24:00              101              Queen Street 1, Bank\n",
       "2018-08-17 00:01:00               37       Penywern Road, Earl's Court\n",
       "2018-08-21 10:22:00              101              Queen Street 1, Bank\n",
       "...                              ...                               ...\n",
       "2018-08-18 11:50:00              531       Twig Folly Bridge, Mile End\n",
       "2018-08-20 08:28:00              499                  Furze Green, Bow\n",
       "2018-08-18 10:09:00              350  Queen's Gate, Kensington Gardens\n",
       "2018-08-18 11:28:00              350  Queen's Gate, Kensington Gardens\n",
       "2018-08-21 12:57:00              116    Little Argyll Street, West End\n",
       "\n",
       "[245623 rows x 2 columns]"
      ]
     },
     "execution_count": 55,
     "metadata": {},
     "output_type": "execute_result"
    }
   ],
   "source": [
    "newDataset = dataset[[ 'StartStation Id', 'StartStation Name']].copy()\n",
    "newDataset"
   ]
  },
  {
   "cell_type": "code",
   "execution_count": 52,
   "id": "bfe27d8f",
   "metadata": {},
   "outputs": [],
   "source": [
    "# Extract the daily data by the date in the dataset.\n",
    "\n",
    "newDataset = (pd.to_datetime(dataset['End Date'])\n",
    "        .dt.floor('d')\n",
    "        .reset_index(name = 'Date'))\n",
    "        #.rename_axis('Date')\n",
    "        #.value_counts()\n",
    "        #.reset_index(name='count')\n",
    "\n",
    "newDataset['EndStation Id'] = dataset['EndStation Id'].values\n",
    "\n",
    "# Extract number of bikes arriving to the station\n",
    "\n",
    "out = newDataset.groupby(['Date','EndStation Id'])['EndStation Id'].count().reset_index(name ='Out')"
   ]
  },
  {
   "cell_type": "code",
   "execution_count": 53,
   "id": "3b147df3",
   "metadata": {},
   "outputs": [
    {
     "data": {
      "text/html": [
       "<div>\n",
       "<style scoped>\n",
       "    .dataframe tbody tr th:only-of-type {\n",
       "        vertical-align: middle;\n",
       "    }\n",
       "\n",
       "    .dataframe tbody tr th {\n",
       "        vertical-align: top;\n",
       "    }\n",
       "\n",
       "    .dataframe thead th {\n",
       "        text-align: right;\n",
       "    }\n",
       "</style>\n",
       "<table border=\"1\" class=\"dataframe\">\n",
       "  <thead>\n",
       "    <tr style=\"text-align: right;\">\n",
       "      <th></th>\n",
       "      <th>Start Date</th>\n",
       "      <th>Date</th>\n",
       "      <th>EndStation Id</th>\n",
       "    </tr>\n",
       "  </thead>\n",
       "  <tbody>\n",
       "    <tr>\n",
       "      <th>0</th>\n",
       "      <td>2018-08-20 12:14:00</td>\n",
       "      <td>2018-08-20</td>\n",
       "      <td>103</td>\n",
       "    </tr>\n",
       "    <tr>\n",
       "      <th>1</th>\n",
       "      <td>2018-08-16 08:22:00</td>\n",
       "      <td>2018-08-16</td>\n",
       "      <td>83</td>\n",
       "    </tr>\n",
       "    <tr>\n",
       "      <th>2</th>\n",
       "      <td>2018-08-20 14:24:00</td>\n",
       "      <td>2018-08-20</td>\n",
       "      <td>115</td>\n",
       "    </tr>\n",
       "    <tr>\n",
       "      <th>3</th>\n",
       "      <td>2018-08-17 00:01:00</td>\n",
       "      <td>2018-08-17</td>\n",
       "      <td>616</td>\n",
       "    </tr>\n",
       "    <tr>\n",
       "      <th>4</th>\n",
       "      <td>2018-08-21 10:22:00</td>\n",
       "      <td>2018-08-21</td>\n",
       "      <td>446</td>\n",
       "    </tr>\n",
       "    <tr>\n",
       "      <th>...</th>\n",
       "      <td>...</td>\n",
       "      <td>...</td>\n",
       "      <td>...</td>\n",
       "    </tr>\n",
       "    <tr>\n",
       "      <th>245618</th>\n",
       "      <td>2018-08-18 11:50:00</td>\n",
       "      <td>2018-08-18</td>\n",
       "      <td>236</td>\n",
       "    </tr>\n",
       "    <tr>\n",
       "      <th>245619</th>\n",
       "      <td>2018-08-20 08:28:00</td>\n",
       "      <td>2018-08-20</td>\n",
       "      <td>254</td>\n",
       "    </tr>\n",
       "    <tr>\n",
       "      <th>245620</th>\n",
       "      <td>2018-08-18 10:09:00</td>\n",
       "      <td>2018-08-18</td>\n",
       "      <td>404</td>\n",
       "    </tr>\n",
       "    <tr>\n",
       "      <th>245621</th>\n",
       "      <td>2018-08-18 11:28:00</td>\n",
       "      <td>2018-08-18</td>\n",
       "      <td>404</td>\n",
       "    </tr>\n",
       "    <tr>\n",
       "      <th>245622</th>\n",
       "      <td>2018-08-21 12:57:00</td>\n",
       "      <td>2018-08-21</td>\n",
       "      <td>379</td>\n",
       "    </tr>\n",
       "  </tbody>\n",
       "</table>\n",
       "<p>245623 rows × 3 columns</p>\n",
       "</div>"
      ],
      "text/plain": [
       "                Start Date       Date  EndStation Id\n",
       "0      2018-08-20 12:14:00 2018-08-20            103\n",
       "1      2018-08-16 08:22:00 2018-08-16             83\n",
       "2      2018-08-20 14:24:00 2018-08-20            115\n",
       "3      2018-08-17 00:01:00 2018-08-17            616\n",
       "4      2018-08-21 10:22:00 2018-08-21            446\n",
       "...                    ...        ...            ...\n",
       "245618 2018-08-18 11:50:00 2018-08-18            236\n",
       "245619 2018-08-20 08:28:00 2018-08-20            254\n",
       "245620 2018-08-18 10:09:00 2018-08-18            404\n",
       "245621 2018-08-18 11:28:00 2018-08-18            404\n",
       "245622 2018-08-21 12:57:00 2018-08-21            379\n",
       "\n",
       "[245623 rows x 3 columns]"
      ]
     },
     "execution_count": 53,
     "metadata": {},
     "output_type": "execute_result"
    }
   ],
   "source": [
    "newDataset"
   ]
  },
  {
   "cell_type": "code",
   "execution_count": 54,
   "id": "5f66ebe2",
   "metadata": {},
   "outputs": [
    {
     "data": {
      "text/html": [
       "<div>\n",
       "<style scoped>\n",
       "    .dataframe tbody tr th:only-of-type {\n",
       "        vertical-align: middle;\n",
       "    }\n",
       "\n",
       "    .dataframe tbody tr th {\n",
       "        vertical-align: top;\n",
       "    }\n",
       "\n",
       "    .dataframe thead th {\n",
       "        text-align: right;\n",
       "    }\n",
       "</style>\n",
       "<table border=\"1\" class=\"dataframe\">\n",
       "  <thead>\n",
       "    <tr style=\"text-align: right;\">\n",
       "      <th></th>\n",
       "      <th>Date</th>\n",
       "      <th>EndStation Id</th>\n",
       "      <th>Out</th>\n",
       "    </tr>\n",
       "  </thead>\n",
       "  <tbody>\n",
       "    <tr>\n",
       "      <th>0</th>\n",
       "      <td>2018-08-15</td>\n",
       "      <td>1</td>\n",
       "      <td>22</td>\n",
       "    </tr>\n",
       "    <tr>\n",
       "      <th>1</th>\n",
       "      <td>2018-08-15</td>\n",
       "      <td>2</td>\n",
       "      <td>55</td>\n",
       "    </tr>\n",
       "    <tr>\n",
       "      <th>2</th>\n",
       "      <td>2018-08-15</td>\n",
       "      <td>3</td>\n",
       "      <td>62</td>\n",
       "    </tr>\n",
       "    <tr>\n",
       "      <th>3</th>\n",
       "      <td>2018-08-15</td>\n",
       "      <td>4</td>\n",
       "      <td>35</td>\n",
       "    </tr>\n",
       "    <tr>\n",
       "      <th>4</th>\n",
       "      <td>2018-08-15</td>\n",
       "      <td>5</td>\n",
       "      <td>85</td>\n",
       "    </tr>\n",
       "    <tr>\n",
       "      <th>...</th>\n",
       "      <td>...</td>\n",
       "      <td>...</td>\n",
       "      <td>...</td>\n",
       "    </tr>\n",
       "    <tr>\n",
       "      <th>5476</th>\n",
       "      <td>2018-08-21</td>\n",
       "      <td>829</td>\n",
       "      <td>18</td>\n",
       "    </tr>\n",
       "    <tr>\n",
       "      <th>5477</th>\n",
       "      <td>2018-08-21</td>\n",
       "      <td>830</td>\n",
       "      <td>24</td>\n",
       "    </tr>\n",
       "    <tr>\n",
       "      <th>5478</th>\n",
       "      <td>2018-08-21</td>\n",
       "      <td>831</td>\n",
       "      <td>25</td>\n",
       "    </tr>\n",
       "    <tr>\n",
       "      <th>5479</th>\n",
       "      <td>2018-08-21</td>\n",
       "      <td>832</td>\n",
       "      <td>27</td>\n",
       "    </tr>\n",
       "    <tr>\n",
       "      <th>5480</th>\n",
       "      <td>2018-08-21</td>\n",
       "      <td>833</td>\n",
       "      <td>44</td>\n",
       "    </tr>\n",
       "  </tbody>\n",
       "</table>\n",
       "<p>5481 rows × 3 columns</p>\n",
       "</div>"
      ],
      "text/plain": [
       "           Date  EndStation Id  Out\n",
       "0    2018-08-15              1   22\n",
       "1    2018-08-15              2   55\n",
       "2    2018-08-15              3   62\n",
       "3    2018-08-15              4   35\n",
       "4    2018-08-15              5   85\n",
       "...         ...            ...  ...\n",
       "5476 2018-08-21            829   18\n",
       "5477 2018-08-21            830   24\n",
       "5478 2018-08-21            831   25\n",
       "5479 2018-08-21            832   27\n",
       "5480 2018-08-21            833   44\n",
       "\n",
       "[5481 rows x 3 columns]"
      ]
     },
     "execution_count": 54,
     "metadata": {},
     "output_type": "execute_result"
    }
   ],
   "source": [
    "out"
   ]
  },
  {
   "cell_type": "code",
   "execution_count": 37,
   "id": "a2a037ae",
   "metadata": {},
   "outputs": [
    {
     "data": {
      "text/plain": [
       "Start Date\n",
       "2018-08-20 12:14:00    36\n",
       "2018-08-16 08:22:00    24\n",
       "2018-08-20 14:24:00    42\n",
       "2018-08-17 00:01:00     0\n",
       "2018-08-21 10:22:00    30\n",
       "                       ..\n",
       "2018-08-18 11:50:00    34\n",
       "2018-08-20 08:28:00    24\n",
       "2018-08-18 10:09:00    30\n",
       "2018-08-18 11:28:00    33\n",
       "2018-08-21 12:57:00    37\n",
       "Name: TimeSlice, Length: 245623, dtype: int64"
      ]
     },
     "execution_count": 37,
     "metadata": {},
     "output_type": "execute_result"
    }
   ],
   "source": [
    "dataset['TimeSlice']"
   ]
  },
  {
   "cell_type": "code",
   "execution_count": 27,
   "id": "537e390d",
   "metadata": {},
   "outputs": [
    {
     "data": {
      "text/plain": [
       "[Text(0.5, 0, 'Hour'), Text(0, 0.5, 'Duration')]"
      ]
     },
     "execution_count": 27,
     "metadata": {},
     "output_type": "execute_result"
    },
    {
     "data": {
      "image/png": "[encoded data removed]",
      "text/plain": [
       "<Figure size 432x288 with 1 Axes>"
      ]
     },
     "metadata": {
      "needs_background": "light"
     },
     "output_type": "display_data"
    }
   ],
   "source": [
    "import seaborn as sns\n",
    "\n",
    "ax = sns.pointplot(x = \"hour\", y = \"Duration\", data = dataset, hue = \"IsWeekday\");\n",
    "ax.set(xlabel = 'Hour', ylabel = 'Duration')"
   ]
  },
  {
   "cell_type": "code",
   "execution_count": 28,
   "id": "4f4abe08",
   "metadata": {},
   "outputs": [
    {
     "data": {
      "text/plain": [
       "[Text(0.5, 0, 'Minute'), Text(0, 0.5, 'Duration')]"
      ]
     },
     "execution_count": 28,
     "metadata": {},
     "output_type": "execute_result"
    },
    {
     "data": {
      "image/png": "[encoded data removed]",
      "text/plain": [
       "<Figure size 432x288 with 1 Axes>"
      ]
     },
     "metadata": {
      "needs_background": "light"
     },
     "output_type": "display_data"
    }
   ],
   "source": [
    "ax = sns.pointplot(x = \"minute\", y = \"Duration\", data = dataset, hue = \"IsWeekday\");\n",
    "ax.set(xlabel = 'Minute', ylabel = 'Duration')"
   ]
  },
  {
   "cell_type": "markdown",
   "id": "8302201c",
   "metadata": {},
   "source": [
    "### Plot average departure rates on weekdays"
   ]
  },
  {
   "cell_type": "code",
   "execution_count": 39,
   "id": "7fc25ea6",
   "metadata": {},
   "outputs": [
    {
     "data": {
      "image/png": "[encoded data removed]",
      "text/plain": [
       "<Figure size 432x288 with 1 Axes>"
      ]
     },
     "metadata": {
      "needs_background": "light"
     },
     "output_type": "display_data"
    },
    {
     "name": "stdout",
     "output_type": "stream",
     "text": [
      "Peak Timeslice= 53\n"
     ]
    }
   ],
   "source": [
    "# Plot example\n",
    "\n",
    "grp_by_timeslice = df.groupby('TimeSlice').count().values[:,0]\n",
    "\n",
    "plt.bar(range(0,72), grp_by_timeslice)\n",
    "plt.xlabel('Time Slice')\n",
    "plt.ylabel('#Departure')\n",
    "plt.show()\n",
    "\n",
    "print('Peak Timeslice= {}'.format(grp_by_timeslice.argmax()))"
   ]
  },
  {
   "cell_type": "markdown",
   "id": "a4a0d882",
   "metadata": {},
   "source": [
    "## Visualisation of the map\n",
    "### Need to fix the error [lat,lon]"
   ]
  },
  {
   "cell_type": "code",
   "execution_count": 59,
   "id": "3c1f4a2a",
   "metadata": {},
   "outputs": [],
   "source": [
    "lon = dataset['end_log']\n",
    "lat = dataset['end_lat']\n",
    "name = dataset['StartStation Name']"
   ]
  },
  {
   "cell_type": "code",
   "execution_count": 60,
   "id": "92dd082c",
   "metadata": {},
   "outputs": [],
   "source": [
    "## For later use\n",
    "#Function to change colors\n",
    "\n",
    "def color_change(c):\n",
    "    if(c < 15):\n",
    "        return('red')\n",
    "    elif(15 <= c < 30):\n",
    "        return('orange')\n",
    "    else:\n",
    "        return('green')"
   ]
  },
  {
   "cell_type": "code",
   "execution_count": 61,
   "id": "9019da94",
   "metadata": {},
   "outputs": [
    {
     "data": {
      "text/html": [
       "<div>\n",
       "<style scoped>\n",
       "    .dataframe tbody tr th:only-of-type {\n",
       "        vertical-align: middle;\n",
       "    }\n",
       "\n",
       "    .dataframe tbody tr th {\n",
       "        vertical-align: top;\n",
       "    }\n",
       "\n",
       "    .dataframe thead th {\n",
       "        text-align: right;\n",
       "    }\n",
       "</style>\n",
       "<table border=\"1\" class=\"dataframe\">\n",
       "  <thead>\n",
       "    <tr style=\"text-align: right;\">\n",
       "      <th></th>\n",
       "      <th>Rental Id</th>\n",
       "      <th>Duration</th>\n",
       "      <th>Bike Id</th>\n",
       "      <th>End Date</th>\n",
       "      <th>EndStation Id</th>\n",
       "      <th>EndStation Name</th>\n",
       "      <th>StartStation Id</th>\n",
       "      <th>StartStation Name</th>\n",
       "      <th>date</th>\n",
       "      <th>month</th>\n",
       "      <th>year</th>\n",
       "      <th>hour</th>\n",
       "      <th>minute</th>\n",
       "      <th>start_log</th>\n",
       "      <th>start_lat</th>\n",
       "      <th>end_log</th>\n",
       "      <th>end_lat</th>\n",
       "      <th>IsWeekday</th>\n",
       "      <th>TimeSlice</th>\n",
       "      <th>Valid</th>\n",
       "    </tr>\n",
       "    <tr>\n",
       "      <th>Start Date</th>\n",
       "      <th></th>\n",
       "      <th></th>\n",
       "      <th></th>\n",
       "      <th></th>\n",
       "      <th></th>\n",
       "      <th></th>\n",
       "      <th></th>\n",
       "      <th></th>\n",
       "      <th></th>\n",
       "      <th></th>\n",
       "      <th></th>\n",
       "      <th></th>\n",
       "      <th></th>\n",
       "      <th></th>\n",
       "      <th></th>\n",
       "      <th></th>\n",
       "      <th></th>\n",
       "      <th></th>\n",
       "      <th></th>\n",
       "      <th></th>\n",
       "    </tr>\n",
       "  </thead>\n",
       "  <tbody>\n",
       "    <tr>\n",
       "      <th>2018-08-20 12:14:00</th>\n",
       "      <td>79466053</td>\n",
       "      <td>1260</td>\n",
       "      <td>3133</td>\n",
       "      <td>20/08/2018 12:35</td>\n",
       "      <td>103</td>\n",
       "      <td>Vicarage Gate, Kensington</td>\n",
       "      <td>754</td>\n",
       "      <td>Grenfell Road, Avondale</td>\n",
       "      <td>20</td>\n",
       "      <td>8</td>\n",
       "      <td>2018</td>\n",
       "      <td>12</td>\n",
       "      <td>14</td>\n",
       "      <td>-0.214763</td>\n",
       "      <td>51.5129</td>\n",
       "      <td>-0.192539</td>\n",
       "      <td>51.5047</td>\n",
       "      <td>True</td>\n",
       "      <td>36</td>\n",
       "      <td>1.0</td>\n",
       "    </tr>\n",
       "    <tr>\n",
       "      <th>2018-08-16 08:22:00</th>\n",
       "      <td>79325170</td>\n",
       "      <td>1200</td>\n",
       "      <td>13603</td>\n",
       "      <td>16/08/2018 08:42</td>\n",
       "      <td>83</td>\n",
       "      <td>Panton Street, West End</td>\n",
       "      <td>669</td>\n",
       "      <td>Teversham Lane, Stockwell</td>\n",
       "      <td>16</td>\n",
       "      <td>8</td>\n",
       "      <td>2018</td>\n",
       "      <td>8</td>\n",
       "      <td>22</td>\n",
       "      <td>-0.123258</td>\n",
       "      <td>51.4761</td>\n",
       "      <td>-0.131511</td>\n",
       "      <td>51.5096</td>\n",
       "      <td>True</td>\n",
       "      <td>24</td>\n",
       "      <td>1.0</td>\n",
       "    </tr>\n",
       "    <tr>\n",
       "      <th>2018-08-20 14:24:00</th>\n",
       "      <td>79469808</td>\n",
       "      <td>1080</td>\n",
       "      <td>13368</td>\n",
       "      <td>20/08/2018 14:42</td>\n",
       "      <td>115</td>\n",
       "      <td>Braham Street, Aldgate</td>\n",
       "      <td>101</td>\n",
       "      <td>Queen Street 1, Bank</td>\n",
       "      <td>20</td>\n",
       "      <td>8</td>\n",
       "      <td>2018</td>\n",
       "      <td>14</td>\n",
       "      <td>24</td>\n",
       "      <td>-0.092940</td>\n",
       "      <td>51.5116</td>\n",
       "      <td>-0.073538</td>\n",
       "      <td>51.5142</td>\n",
       "      <td>True</td>\n",
       "      <td>42</td>\n",
       "      <td>1.0</td>\n",
       "    </tr>\n",
       "    <tr>\n",
       "      <th>2018-08-17 00:01:00</th>\n",
       "      <td>79348433</td>\n",
       "      <td>600</td>\n",
       "      <td>13965</td>\n",
       "      <td>17/08/2018 00:11</td>\n",
       "      <td>616</td>\n",
       "      <td>Aintree Street, Fulham</td>\n",
       "      <td>37</td>\n",
       "      <td>Penywern Road, Earl's Court</td>\n",
       "      <td>17</td>\n",
       "      <td>8</td>\n",
       "      <td>2018</td>\n",
       "      <td>0</td>\n",
       "      <td>1</td>\n",
       "      <td>-0.192369</td>\n",
       "      <td>51.4916</td>\n",
       "      <td>-0.209973</td>\n",
       "      <td>51.4810</td>\n",
       "      <td>True</td>\n",
       "      <td>0</td>\n",
       "      <td>1.0</td>\n",
       "    </tr>\n",
       "    <tr>\n",
       "      <th>2018-08-21 10:22:00</th>\n",
       "      <td>79503786</td>\n",
       "      <td>4680</td>\n",
       "      <td>12965</td>\n",
       "      <td>21/08/2018 11:40</td>\n",
       "      <td>446</td>\n",
       "      <td>York Hall, Bethnal Green</td>\n",
       "      <td>101</td>\n",
       "      <td>Queen Street 1, Bank</td>\n",
       "      <td>21</td>\n",
       "      <td>8</td>\n",
       "      <td>2018</td>\n",
       "      <td>10</td>\n",
       "      <td>22</td>\n",
       "      <td>-0.092940</td>\n",
       "      <td>51.5116</td>\n",
       "      <td>-0.055894</td>\n",
       "      <td>51.5289</td>\n",
       "      <td>True</td>\n",
       "      <td>30</td>\n",
       "      <td>1.0</td>\n",
       "    </tr>\n",
       "  </tbody>\n",
       "</table>\n",
       "</div>"
      ],
      "text/plain": [
       "                     Rental Id  Duration  Bike Id          End Date  \\\n",
       "Start Date                                                            \n",
       "2018-08-20 12:14:00   79466053      1260     3133  20/08/2018 12:35   \n",
       "2018-08-16 08:22:00   79325170      1200    13603  16/08/2018 08:42   \n",
       "2018-08-20 14:24:00   79469808      1080    13368  20/08/2018 14:42   \n",
       "2018-08-17 00:01:00   79348433       600    13965  17/08/2018 00:11   \n",
       "2018-08-21 10:22:00   79503786      4680    12965  21/08/2018 11:40   \n",
       "\n",
       "                     EndStation Id            EndStation Name  \\\n",
       "Start Date                                                      \n",
       "2018-08-20 12:14:00            103  Vicarage Gate, Kensington   \n",
       "2018-08-16 08:22:00             83    Panton Street, West End   \n",
       "2018-08-20 14:24:00            115     Braham Street, Aldgate   \n",
       "2018-08-17 00:01:00            616     Aintree Street, Fulham   \n",
       "2018-08-21 10:22:00            446   York Hall, Bethnal Green   \n",
       "\n",
       "                     StartStation Id            StartStation Name  date  \\\n",
       "Start Date                                                                \n",
       "2018-08-20 12:14:00              754      Grenfell Road, Avondale    20   \n",
       "2018-08-16 08:22:00              669    Teversham Lane, Stockwell    16   \n",
       "2018-08-20 14:24:00              101         Queen Street 1, Bank    20   \n",
       "2018-08-17 00:01:00               37  Penywern Road, Earl's Court    17   \n",
       "2018-08-21 10:22:00              101         Queen Street 1, Bank    21   \n",
       "\n",
       "                     month  year  hour  minute  start_log  start_lat  \\\n",
       "Start Date                                                             \n",
       "2018-08-20 12:14:00      8  2018    12      14  -0.214763    51.5129   \n",
       "2018-08-16 08:22:00      8  2018     8      22  -0.123258    51.4761   \n",
       "2018-08-20 14:24:00      8  2018    14      24  -0.092940    51.5116   \n",
       "2018-08-17 00:01:00      8  2018     0       1  -0.192369    51.4916   \n",
       "2018-08-21 10:22:00      8  2018    10      22  -0.092940    51.5116   \n",
       "\n",
       "                      end_log  end_lat  IsWeekday  TimeSlice  Valid  \n",
       "Start Date                                                           \n",
       "2018-08-20 12:14:00 -0.192539  51.5047       True         36    1.0  \n",
       "2018-08-16 08:22:00 -0.131511  51.5096       True         24    1.0  \n",
       "2018-08-20 14:24:00 -0.073538  51.5142       True         42    1.0  \n",
       "2018-08-17 00:01:00 -0.209973  51.4810       True          0    1.0  \n",
       "2018-08-21 10:22:00 -0.055894  51.5289       True         30    1.0  "
      ]
     },
     "execution_count": 61,
     "metadata": {},
     "output_type": "execute_result"
    }
   ],
   "source": [
    "dataset.head()"
   ]
  },
  {
   "cell_type": "code",
   "execution_count": 62,
   "id": "23426671",
   "metadata": {},
   "outputs": [
    {
     "ename": "ValueError",
     "evalue": "Expected two (lat, lon) values for location, instead got: Start Date\n2018-08-20 12:14:00    51.5047\n2018-08-16 08:22:00    51.5096\n2018-08-20 14:24:00    51.5142\n2018-08-17 00:01:00    51.4810\n2018-08-21 10:22:00    51.5289\n                        ...   \n2018-08-18 11:50:00    51.4973\n2018-08-20 08:28:00    51.4973\n2018-08-18 10:09:00    51.4973\n2018-08-18 11:28:00    51.4973\n2018-08-21 12:57:00    51.4973\nName: end_lat, Length: 245623, dtype: float64.",
     "output_type": "error",
     "traceback": [
      "\u001b[0;31m---------------------------------------------------------------------------\u001b[0m",
      "\u001b[0;31mTypeError\u001b[0m                                 Traceback (most recent call last)",
      "\u001b[0;32m~/opt/anaconda3/lib/python3.8/site-packages/folium/utilities.py\u001b[0m in \u001b[0;36mvalidate_locations\u001b[0;34m(locations)\u001b[0m\n\u001b[1;32m     88\u001b[0m     \u001b[0;32mtry\u001b[0m\u001b[0;34m:\u001b[0m\u001b[0;34m\u001b[0m\u001b[0;34m\u001b[0m\u001b[0m\n\u001b[0;32m---> 89\u001b[0;31m         \u001b[0mfloat\u001b[0m\u001b[0;34m(\u001b[0m\u001b[0mnext\u001b[0m\u001b[0;34m(\u001b[0m\u001b[0miter\u001b[0m\u001b[0;34m(\u001b[0m\u001b[0mnext\u001b[0m\u001b[0;34m(\u001b[0m\u001b[0miter\u001b[0m\u001b[0;34m(\u001b[0m\u001b[0mnext\u001b[0m\u001b[0;34m(\u001b[0m\u001b[0miter\u001b[0m\u001b[0;34m(\u001b[0m\u001b[0mlocations\u001b[0m\u001b[0;34m)\u001b[0m\u001b[0;34m)\u001b[0m\u001b[0;34m)\u001b[0m\u001b[0;34m)\u001b[0m\u001b[0;34m)\u001b[0m\u001b[0;34m)\u001b[0m\u001b[0;34m)\u001b[0m\u001b[0;34m\u001b[0m\u001b[0;34m\u001b[0m\u001b[0m\n\u001b[0m\u001b[1;32m     90\u001b[0m     \u001b[0;32mexcept\u001b[0m \u001b[0;34m(\u001b[0m\u001b[0mTypeError\u001b[0m\u001b[0;34m,\u001b[0m \u001b[0mStopIteration\u001b[0m\u001b[0;34m)\u001b[0m\u001b[0;34m:\u001b[0m\u001b[0;34m\u001b[0m\u001b[0;34m\u001b[0m\u001b[0m\n",
      "\u001b[0;31mTypeError\u001b[0m: 'float' object is not iterable",
      "\nDuring handling of the above exception, another exception occurred:\n",
      "\u001b[0;31mValueError\u001b[0m                                Traceback (most recent call last)",
      "\u001b[0;32m<ipython-input-62-5e16cdfa2eda>\u001b[0m in \u001b[0;36m<module>\u001b[0;34m\u001b[0m\n\u001b[1;32m      5\u001b[0m                  \u001b[0mzoom_start\u001b[0m \u001b[0;34m=\u001b[0m \u001b[0;36m12\u001b[0m\u001b[0;34m,\u001b[0m\u001b[0;34m\u001b[0m\u001b[0;34m\u001b[0m\u001b[0m\n\u001b[1;32m      6\u001b[0m                  tiles = \"CartoDB positron\")\n\u001b[0;32m----> 7\u001b[0;31m \u001b[0mmarker_cluster\u001b[0m \u001b[0;34m=\u001b[0m \u001b[0mMarkerCluster\u001b[0m\u001b[0;34m(\u001b[0m\u001b[0mlocations\u001b[0m \u001b[0;34m=\u001b[0m \u001b[0;34m[\u001b[0m\u001b[0mlat\u001b[0m\u001b[0;34m,\u001b[0m\u001b[0mlon\u001b[0m\u001b[0;34m]\u001b[0m\u001b[0;34m)\u001b[0m\u001b[0;34m.\u001b[0m\u001b[0madd_to\u001b[0m\u001b[0;34m(\u001b[0m\u001b[0mmap\u001b[0m\u001b[0;34m)\u001b[0m\u001b[0;34m\u001b[0m\u001b[0;34m\u001b[0m\u001b[0m\n\u001b[0m\u001b[1;32m      8\u001b[0m \u001b[0;34m\u001b[0m\u001b[0m\n\u001b[1;32m      9\u001b[0m \u001b[0;31m# Plot markers\u001b[0m\u001b[0;34m\u001b[0m\u001b[0;34m\u001b[0m\u001b[0;34m\u001b[0m\u001b[0m\n",
      "\u001b[0;32m~/opt/anaconda3/lib/python3.8/site-packages/folium/plugins/marker_cluster.py\u001b[0m in \u001b[0;36m__init__\u001b[0;34m(self, locations, popups, icons, name, overlay, control, show, icon_create_function, options, **kwargs)\u001b[0m\n\u001b[1;32m     81\u001b[0m \u001b[0;34m\u001b[0m\u001b[0m\n\u001b[1;32m     82\u001b[0m         \u001b[0;32mif\u001b[0m \u001b[0mlocations\u001b[0m \u001b[0;32mis\u001b[0m \u001b[0;32mnot\u001b[0m \u001b[0;32mNone\u001b[0m\u001b[0;34m:\u001b[0m\u001b[0;34m\u001b[0m\u001b[0;34m\u001b[0m\u001b[0m\n\u001b[0;32m---> 83\u001b[0;31m             \u001b[0mlocations\u001b[0m \u001b[0;34m=\u001b[0m \u001b[0mvalidate_locations\u001b[0m\u001b[0;34m(\u001b[0m\u001b[0mlocations\u001b[0m\u001b[0;34m)\u001b[0m\u001b[0;34m\u001b[0m\u001b[0;34m\u001b[0m\u001b[0m\n\u001b[0m\u001b[1;32m     84\u001b[0m             \u001b[0;32mfor\u001b[0m \u001b[0mi\u001b[0m\u001b[0;34m,\u001b[0m \u001b[0mlocation\u001b[0m \u001b[0;32min\u001b[0m \u001b[0menumerate\u001b[0m\u001b[0;34m(\u001b[0m\u001b[0mlocations\u001b[0m\u001b[0;34m)\u001b[0m\u001b[0;34m:\u001b[0m\u001b[0;34m\u001b[0m\u001b[0;34m\u001b[0m\u001b[0m\n\u001b[1;32m     85\u001b[0m                 self.add_child(Marker(location,\n",
      "\u001b[0;32m~/opt/anaconda3/lib/python3.8/site-packages/folium/utilities.py\u001b[0m in \u001b[0;36mvalidate_locations\u001b[0;34m(locations)\u001b[0m\n\u001b[1;32m     90\u001b[0m     \u001b[0;32mexcept\u001b[0m \u001b[0;34m(\u001b[0m\u001b[0mTypeError\u001b[0m\u001b[0;34m,\u001b[0m \u001b[0mStopIteration\u001b[0m\u001b[0;34m)\u001b[0m\u001b[0;34m:\u001b[0m\u001b[0;34m\u001b[0m\u001b[0;34m\u001b[0m\u001b[0m\n\u001b[1;32m     91\u001b[0m         \u001b[0;31m# locations is a list of coordinate pairs\u001b[0m\u001b[0;34m\u001b[0m\u001b[0;34m\u001b[0m\u001b[0;34m\u001b[0m\u001b[0m\n\u001b[0;32m---> 92\u001b[0;31m         \u001b[0;32mreturn\u001b[0m \u001b[0;34m[\u001b[0m\u001b[0mvalidate_location\u001b[0m\u001b[0;34m(\u001b[0m\u001b[0mcoord_pair\u001b[0m\u001b[0;34m)\u001b[0m \u001b[0;32mfor\u001b[0m \u001b[0mcoord_pair\u001b[0m \u001b[0;32min\u001b[0m \u001b[0mlocations\u001b[0m\u001b[0;34m]\u001b[0m\u001b[0;34m\u001b[0m\u001b[0;34m\u001b[0m\u001b[0m\n\u001b[0m\u001b[1;32m     93\u001b[0m     \u001b[0;32melse\u001b[0m\u001b[0;34m:\u001b[0m\u001b[0;34m\u001b[0m\u001b[0;34m\u001b[0m\u001b[0m\n\u001b[1;32m     94\u001b[0m         \u001b[0;31m# locations is a list of a list of coordinate pairs, recurse\u001b[0m\u001b[0;34m\u001b[0m\u001b[0;34m\u001b[0m\u001b[0;34m\u001b[0m\u001b[0m\n",
      "\u001b[0;32m~/opt/anaconda3/lib/python3.8/site-packages/folium/utilities.py\u001b[0m in \u001b[0;36m<listcomp>\u001b[0;34m(.0)\u001b[0m\n\u001b[1;32m     90\u001b[0m     \u001b[0;32mexcept\u001b[0m \u001b[0;34m(\u001b[0m\u001b[0mTypeError\u001b[0m\u001b[0;34m,\u001b[0m \u001b[0mStopIteration\u001b[0m\u001b[0;34m)\u001b[0m\u001b[0;34m:\u001b[0m\u001b[0;34m\u001b[0m\u001b[0;34m\u001b[0m\u001b[0m\n\u001b[1;32m     91\u001b[0m         \u001b[0;31m# locations is a list of coordinate pairs\u001b[0m\u001b[0;34m\u001b[0m\u001b[0;34m\u001b[0m\u001b[0;34m\u001b[0m\u001b[0m\n\u001b[0;32m---> 92\u001b[0;31m         \u001b[0;32mreturn\u001b[0m \u001b[0;34m[\u001b[0m\u001b[0mvalidate_location\u001b[0m\u001b[0;34m(\u001b[0m\u001b[0mcoord_pair\u001b[0m\u001b[0;34m)\u001b[0m \u001b[0;32mfor\u001b[0m \u001b[0mcoord_pair\u001b[0m \u001b[0;32min\u001b[0m \u001b[0mlocations\u001b[0m\u001b[0;34m]\u001b[0m\u001b[0;34m\u001b[0m\u001b[0;34m\u001b[0m\u001b[0m\n\u001b[0m\u001b[1;32m     93\u001b[0m     \u001b[0;32melse\u001b[0m\u001b[0;34m:\u001b[0m\u001b[0;34m\u001b[0m\u001b[0;34m\u001b[0m\u001b[0m\n\u001b[1;32m     94\u001b[0m         \u001b[0;31m# locations is a list of a list of coordinate pairs, recurse\u001b[0m\u001b[0;34m\u001b[0m\u001b[0;34m\u001b[0m\u001b[0;34m\u001b[0m\u001b[0m\n",
      "\u001b[0;32m~/opt/anaconda3/lib/python3.8/site-packages/folium/utilities.py\u001b[0m in \u001b[0;36mvalidate_location\u001b[0;34m(location)\u001b[0m\n\u001b[1;32m     48\u001b[0m                         '{!r} of type {}.'.format(location, type(location)))\n\u001b[1;32m     49\u001b[0m     \u001b[0;32mif\u001b[0m \u001b[0mlen\u001b[0m\u001b[0;34m(\u001b[0m\u001b[0mlocation\u001b[0m\u001b[0;34m)\u001b[0m \u001b[0;34m!=\u001b[0m \u001b[0;36m2\u001b[0m\u001b[0;34m:\u001b[0m\u001b[0;34m\u001b[0m\u001b[0;34m\u001b[0m\u001b[0m\n\u001b[0;32m---> 50\u001b[0;31m         raise ValueError('Expected two (lat, lon) values for location, '\n\u001b[0m\u001b[1;32m     51\u001b[0m                          'instead got: {!r}.'.format(location))\n\u001b[1;32m     52\u001b[0m     \u001b[0;32mtry\u001b[0m\u001b[0;34m:\u001b[0m\u001b[0;34m\u001b[0m\u001b[0;34m\u001b[0m\u001b[0m\n",
      "\u001b[0;31mValueError\u001b[0m: Expected two (lat, lon) values for location, instead got: Start Date\n2018-08-20 12:14:00    51.5047\n2018-08-16 08:22:00    51.5096\n2018-08-20 14:24:00    51.5142\n2018-08-17 00:01:00    51.4810\n2018-08-21 10:22:00    51.5289\n                        ...   \n2018-08-18 11:50:00    51.4973\n2018-08-20 08:28:00    51.4973\n2018-08-18 10:09:00    51.4973\n2018-08-18 11:28:00    51.4973\n2018-08-21 12:57:00    51.4973\nName: end_lat, Length: 245623, dtype: float64."
     ]
    }
   ],
   "source": [
    "# Create base map\n",
    "\n",
    "London = [51.506949, -0.122876]\n",
    "map = folium.Map(location = London,\n",
    "                 zoom_start = 12, \n",
    "                 tiles = \"CartoDB positron\")\n",
    "marker_cluster = MarkerCluster(locations = [lat,lon]).add_to(map)\n",
    "\n",
    "# Plot markers\n",
    "\n",
    "for _lat, _lon, _name in zip(lat, lon, name):\n",
    "    folium.CircleMarker(location = [_lat, _lon], \n",
    "                        radius = 9, \n",
    "                        popup = _name, \n",
    "                        color = \"gray\", \n",
    "                        fill_opacity = 0.9).add_to(marker_cluster)\n",
    "    \n",
    "map"
   ]
  },
  {
   "cell_type": "code",
   "execution_count": 71,
   "id": "300744f8",
   "metadata": {},
   "outputs": [],
   "source": [
    "# Build DensityMap function\n",
    "\n",
    "def DensityMap(location):\n",
    "\n",
    "  London = [51.506949, -0.122876]\n",
    "  \n",
    "  map = folium.Map(location = London, \n",
    "                   zoom_start = 12, \n",
    "                   tiles = \"CartoDB dark_matter\")\n",
    "  \n",
    "  #dataset['Total Departure'] = cnt_departure\n",
    "  #dataset['Total Arrival'] = cnt_arrival\n",
    "\n",
    "  for index, row in location.iterrows():\n",
    "    duration = dataset['Duration']\n",
    "    \n",
    "    _radius = np.abs(duration) \n",
    "    if np.isnan(_radius):\n",
    "      _radius = 0\n",
    "    \n",
    "    if net_departure > 10000:\n",
    "      _color= '#E80018' # target red\n",
    "    else:\n",
    "      _color= '#81D8D0' # tiffany blue\n",
    "  \n",
    "    lat, lon = row['lattitude'], row['longitude']\n",
    "    _popup = +str(int(_radius))+' '+dataset['StartStation Name']\n",
    "  \n",
    "    folium.CircleMarker(location = [lat,lon], \n",
    "                        radius = _radius, \n",
    "                        popup = _popup, \n",
    "                        color = _color, \n",
    "                        fill_opacity = 0.5).add_to(map)\n",
    "  \n",
    "  return map"
   ]
  },
  {
   "cell_type": "code",
   "execution_count": 72,
   "id": "a81c173c",
   "metadata": {},
   "outputs": [
    {
     "ename": "ValueError",
     "evalue": "The truth value of a Series is ambiguous. Use a.empty, a.bool(), a.item(), a.any() or a.all().",
     "output_type": "error",
     "traceback": [
      "\u001b[0;31m---------------------------------------------------------------------------\u001b[0m",
      "\u001b[0;31mValueError\u001b[0m                                Traceback (most recent call last)",
      "\u001b[0;32m<ipython-input-72-17d97421c173>\u001b[0m in \u001b[0;36m<module>\u001b[0;34m\u001b[0m\n\u001b[1;32m     13\u001b[0m   \u001b[0;31m#cnt_arrival = df_target.groupby(\"EndStation Id\").count().iloc[:,0]\u001b[0m\u001b[0;34m\u001b[0m\u001b[0;34m\u001b[0m\u001b[0;34m\u001b[0m\u001b[0m\n\u001b[1;32m     14\u001b[0m \u001b[0;34m\u001b[0m\u001b[0m\n\u001b[0;32m---> 15\u001b[0;31m   \u001b[0mvars\u001b[0m\u001b[0;34m(\u001b[0m\u001b[0;34m)\u001b[0m\u001b[0;34m[\u001b[0m\u001b[0mkw\u001b[0m\u001b[0;34m]\u001b[0m \u001b[0;34m=\u001b[0m \u001b[0mDensityMap\u001b[0m\u001b[0;34m(\u001b[0m\u001b[0mlocation\u001b[0m\u001b[0;34m)\u001b[0m\u001b[0;34m\u001b[0m\u001b[0;34m\u001b[0m\u001b[0m\n\u001b[0m",
      "\u001b[0;32m<ipython-input-71-32ac3eb1bd2e>\u001b[0m in \u001b[0;36mDensityMap\u001b[0;34m(location)\u001b[0m\n\u001b[1;32m     16\u001b[0m \u001b[0;34m\u001b[0m\u001b[0m\n\u001b[1;32m     17\u001b[0m     \u001b[0m_radius\u001b[0m \u001b[0;34m=\u001b[0m \u001b[0mnp\u001b[0m\u001b[0;34m.\u001b[0m\u001b[0mabs\u001b[0m\u001b[0;34m(\u001b[0m\u001b[0mduration\u001b[0m\u001b[0;34m)\u001b[0m\u001b[0;34m\u001b[0m\u001b[0;34m\u001b[0m\u001b[0m\n\u001b[0;32m---> 18\u001b[0;31m     \u001b[0;32mif\u001b[0m \u001b[0mnp\u001b[0m\u001b[0;34m.\u001b[0m\u001b[0misnan\u001b[0m\u001b[0;34m(\u001b[0m\u001b[0m_radius\u001b[0m\u001b[0;34m)\u001b[0m\u001b[0;34m:\u001b[0m\u001b[0;34m\u001b[0m\u001b[0;34m\u001b[0m\u001b[0m\n\u001b[0m\u001b[1;32m     19\u001b[0m       \u001b[0m_radius\u001b[0m \u001b[0;34m=\u001b[0m \u001b[0;36m0\u001b[0m\u001b[0;34m\u001b[0m\u001b[0;34m\u001b[0m\u001b[0m\n\u001b[1;32m     20\u001b[0m \u001b[0;34m\u001b[0m\u001b[0m\n",
      "\u001b[0;32m~/opt/anaconda3/lib/python3.8/site-packages/pandas/core/generic.py\u001b[0m in \u001b[0;36m__nonzero__\u001b[0;34m(self)\u001b[0m\n\u001b[1;32m   1440\u001b[0m     \u001b[0;34m@\u001b[0m\u001b[0mfinal\u001b[0m\u001b[0;34m\u001b[0m\u001b[0;34m\u001b[0m\u001b[0m\n\u001b[1;32m   1441\u001b[0m     \u001b[0;32mdef\u001b[0m \u001b[0m__nonzero__\u001b[0m\u001b[0;34m(\u001b[0m\u001b[0mself\u001b[0m\u001b[0;34m)\u001b[0m\u001b[0;34m:\u001b[0m\u001b[0;34m\u001b[0m\u001b[0;34m\u001b[0m\u001b[0m\n\u001b[0;32m-> 1442\u001b[0;31m         raise ValueError(\n\u001b[0m\u001b[1;32m   1443\u001b[0m             \u001b[0;34mf\"The truth value of a {type(self).__name__} is ambiguous. \"\u001b[0m\u001b[0;34m\u001b[0m\u001b[0;34m\u001b[0m\u001b[0m\n\u001b[1;32m   1444\u001b[0m             \u001b[0;34m\"Use a.empty, a.bool(), a.item(), a.any() or a.all().\"\u001b[0m\u001b[0;34m\u001b[0m\u001b[0;34m\u001b[0m\u001b[0m\n",
      "\u001b[0;31mValueError\u001b[0m: The truth value of a Series is ambiguous. Use a.empty, a.bool(), a.item(), a.any() or a.all()."
     ]
    }
   ],
   "source": [
    "# Select peak hours\n",
    "\n",
    "TimeSlice = [25,53] # morning and evening\n",
    "keyword = ['map_morning', 'map_evening']\n",
    "\n",
    "# Journeys depart between 0820 and 0859, and between 1740 and 1819\n",
    "for ts, kw in zip(TimeSlice, keyword):\n",
    "  df_1 = df[df[\"TimeSlice\"] == ts]\n",
    "  df_2 = df[df[\"TimeSlice\"] == (ts+1)]\n",
    "  df_target = df_1.append(df_2)\n",
    "\n",
    "  #cnt_departure = df_target.groupby(\"StartStation Id\").count().iloc[:,0]\n",
    "  #cnt_arrival = df_target.groupby(\"EndStation Id\").count().iloc[:,0]\n",
    "\n",
    "  vars()[kw] = DensityMap(location)"
   ]
  },
  {
   "cell_type": "code",
   "execution_count": 73,
   "id": "b335db6d",
   "metadata": {},
   "outputs": [
    {
     "ename": "NameError",
     "evalue": "name 'map_morning' is not defined",
     "output_type": "error",
     "traceback": [
      "\u001b[0;31m---------------------------------------------------------------------------\u001b[0m",
      "\u001b[0;31mNameError\u001b[0m                                 Traceback (most recent call last)",
      "\u001b[0;32m<ipython-input-73-8f38d126401f>\u001b[0m in \u001b[0;36m<module>\u001b[0;34m\u001b[0m\n\u001b[0;32m----> 1\u001b[0;31m \u001b[0mmap_morning\u001b[0m\u001b[0;34m\u001b[0m\u001b[0;34m\u001b[0m\u001b[0m\n\u001b[0m",
      "\u001b[0;31mNameError\u001b[0m: name 'map_morning' is not defined"
     ]
    }
   ],
   "source": [
    "map_morning"
   ]
  },
  {
   "cell_type": "code",
   "execution_count": null,
   "id": "31ba2a70",
   "metadata": {},
   "outputs": [],
   "source": []
  }
 ],
 "metadata": {
  "kernelspec": {
   "display_name": "Python 3",
   "language": "python",
   "name": "python3"
  },
  "language_info": {
   "codemirror_mode": {
    "name": "ipython",
    "version": 3
   },
   "file_extension": ".py",
   "mimetype": "text/x-python",
   "name": "python",
   "nbconvert_exporter": "python",
   "pygments_lexer": "ipython3",
   "version": "3.8.8"
  }
 },
 "nbformat": 4,
 "nbformat_minor": 5
}
