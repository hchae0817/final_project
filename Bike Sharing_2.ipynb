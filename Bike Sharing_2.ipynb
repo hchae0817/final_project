{
 "cells": [
  {
   "cell_type": "markdown",
   "id": "10a623aa",
   "metadata": {},
   "source": [
    "# Final Project\n",
    "## Machine Learning: Prediction on bike sharing demand"
   ]
  },
  {
   "cell_type": "markdown",
   "id": "863aa957",
   "metadata": {},
   "source": [
    "- Check where the file locate"
   ]
  },
  {
   "cell_type": "code",
   "execution_count": 1,
   "id": "3c79512c",
   "metadata": {},
   "outputs": [
    {
     "data": {
      "text/plain": [
       "'/Users/hchae/Desktop'"
      ]
     },
     "execution_count": 1,
     "metadata": {},
     "output_type": "execute_result"
    }
   ],
   "source": [
    "pwd"
   ]
  },
  {
   "cell_type": "code",
   "execution_count": 1,
   "id": "be59a004",
   "metadata": {},
   "outputs": [],
   "source": [
    "# Import\n",
    "\n",
    "import folium\n",
    "from folium.plugins import MarkerCluster\n",
    "\n",
    "import numpy as np\n",
    "import pandas as pd\n",
    "import datetime as dt\n",
    "import matplotlib.pyplot as plt"
   ]
  },
  {
   "cell_type": "markdown",
   "id": "55c655f9",
   "metadata": {},
   "source": [
    "### Importing the Dataset"
   ]
  },
  {
   "cell_type": "code",
   "execution_count": 2,
   "id": "b2c43303",
   "metadata": {},
   "outputs": [],
   "source": [
    "#dataset = pd.read_csv(\"123JourneyDataExtract15Aug2018-21Aug2018.csv\")\n",
    "\n",
    "dataset = pd.read_csv(\n",
    "  \"123JourneyDataExtract15Aug2018-21Aug2018.csv\", \n",
    "  parse_dates = ['Start Date'], \n",
    "  index_col = \"Start Date\"\n",
    ")"
   ]
  },
  {
   "cell_type": "code",
   "execution_count": 3,
   "id": "f953a869",
   "metadata": {},
   "outputs": [
    {
     "data": {
      "text/plain": [
       "Rental Id             int64\n",
       "Duration              int64\n",
       "Bike Id               int64\n",
       "End Date             object\n",
       "EndStation Id         int64\n",
       "EndStation Name      object\n",
       "StartStation Id       int64\n",
       "StartStation Name    object\n",
       "dtype: object"
      ]
     },
     "execution_count": 3,
     "metadata": {},
     "output_type": "execute_result"
    }
   ],
   "source": [
    "dataset.dtypes"
   ]
  },
  {
   "cell_type": "markdown",
   "id": "327a27f2",
   "metadata": {},
   "source": [
    "### Create extra column\n",
    "#### Create hour, date, day_of_week and month dataframe column from start date column"
   ]
  },
  {
   "cell_type": "code",
   "execution_count": 112,
   "id": "df138859",
   "metadata": {},
   "outputs": [
    {
     "ename": "AttributeError",
     "evalue": "'RangeIndex' object has no attribute 'day'",
     "output_type": "error",
     "traceback": [
      "\u001b[0;31m---------------------------------------------------------------------------\u001b[0m",
      "\u001b[0;31mAttributeError\u001b[0m                            Traceback (most recent call last)",
      "\u001b[0;32m<ipython-input-112-62a62c0d714e>\u001b[0m in \u001b[0;36m<module>\u001b[0;34m\u001b[0m\n\u001b[0;32m----> 1\u001b[0;31m \u001b[0mdataset\u001b[0m\u001b[0;34m[\u001b[0m\u001b[0;34m'date'\u001b[0m\u001b[0;34m]\u001b[0m \u001b[0;34m=\u001b[0m \u001b[0mdataset\u001b[0m\u001b[0;34m.\u001b[0m\u001b[0mindex\u001b[0m\u001b[0;34m.\u001b[0m\u001b[0mday\u001b[0m\u001b[0;34m\u001b[0m\u001b[0;34m\u001b[0m\u001b[0m\n\u001b[0m\u001b[1;32m      2\u001b[0m \u001b[0mdataset\u001b[0m\u001b[0;34m[\u001b[0m\u001b[0;34m'month'\u001b[0m\u001b[0;34m]\u001b[0m \u001b[0;34m=\u001b[0m \u001b[0mdataset\u001b[0m\u001b[0;34m.\u001b[0m\u001b[0mindex\u001b[0m\u001b[0;34m.\u001b[0m\u001b[0mmonth\u001b[0m\u001b[0;34m\u001b[0m\u001b[0;34m\u001b[0m\u001b[0m\n\u001b[1;32m      3\u001b[0m \u001b[0mdataset\u001b[0m\u001b[0;34m[\u001b[0m\u001b[0;34m'year'\u001b[0m\u001b[0;34m]\u001b[0m \u001b[0;34m=\u001b[0m \u001b[0mdataset\u001b[0m\u001b[0;34m.\u001b[0m\u001b[0mindex\u001b[0m\u001b[0;34m.\u001b[0m\u001b[0myear\u001b[0m\u001b[0;34m\u001b[0m\u001b[0;34m\u001b[0m\u001b[0m\n\u001b[1;32m      4\u001b[0m \u001b[0mdataset\u001b[0m\u001b[0;34m[\u001b[0m\u001b[0;34m'hour'\u001b[0m\u001b[0;34m]\u001b[0m \u001b[0;34m=\u001b[0m \u001b[0mdataset\u001b[0m\u001b[0;34m.\u001b[0m\u001b[0mindex\u001b[0m\u001b[0;34m.\u001b[0m\u001b[0mhour\u001b[0m\u001b[0;34m\u001b[0m\u001b[0;34m\u001b[0m\u001b[0m\n\u001b[1;32m      5\u001b[0m \u001b[0mdataset\u001b[0m\u001b[0;34m[\u001b[0m\u001b[0;34m'minute'\u001b[0m\u001b[0;34m]\u001b[0m \u001b[0;34m=\u001b[0m \u001b[0mdataset\u001b[0m\u001b[0;34m.\u001b[0m\u001b[0mindex\u001b[0m\u001b[0;34m.\u001b[0m\u001b[0mminute\u001b[0m\u001b[0;34m\u001b[0m\u001b[0;34m\u001b[0m\u001b[0m\n",
      "\u001b[0;31mAttributeError\u001b[0m: 'RangeIndex' object has no attribute 'day'"
     ]
    }
   ],
   "source": [
    "dataset['date'] = dataset.index.day\n",
    "dataset['month'] = dataset.index.month\n",
    "dataset['year'] = dataset.index.year\n",
    "dataset['hour'] = dataset.index.hour\n",
    "dataset['minute'] = dataset.index.minute\n",
    "\n",
    "date = dataset['date'].values\n",
    "month = dataset['month'].values\n",
    "year = dataset['year'].values\n",
    "hour = dataset['hour'].values\n",
    "minute = dataset['minute'].values"
   ]
  },
  {
   "cell_type": "code",
   "execution_count": 5,
   "id": "ffba0b43",
   "metadata": {},
   "outputs": [
    {
     "data": {
      "text/plain": [
       "Start Date\n",
       "2018-08-20 12:14:00    20\n",
       "2018-08-16 08:22:00    16\n",
       "2018-08-20 14:24:00    20\n",
       "2018-08-17 00:01:00    17\n",
       "2018-08-21 10:22:00    21\n",
       "Name: date, dtype: int64"
      ]
     },
     "execution_count": 5,
     "metadata": {},
     "output_type": "execute_result"
    }
   ],
   "source": [
    "dataset['date'].head()"
   ]
  },
  {
   "cell_type": "code",
   "execution_count": 6,
   "id": "d6256541",
   "metadata": {},
   "outputs": [],
   "source": [
    "location = pd.read_csv(\"Cycle hire docking stations.csv\")"
   ]
  },
  {
   "cell_type": "markdown",
   "id": "145d49e2",
   "metadata": {},
   "source": [
    "### Add Longitude and Latitude for the station location"
   ]
  },
  {
   "cell_type": "code",
   "execution_count": 107,
   "id": "5aed85a0",
   "metadata": {},
   "outputs": [
    {
     "name": "stderr",
     "output_type": "stream",
     "text": [
      "<ipython-input-107-bdb453401523>:11: SettingWithCopyWarning: \n",
      "A value is trying to be set on a copy of a slice from a DataFrame\n",
      "\n",
      "See the caveats in the documentation: https://pandas.pydata.org/pandas-docs/stable/user_guide/indexing.html#returning-a-view-versus-a-copy\n",
      "  dataset['start_log'][cnt] = location['longitude'][loc_cnt]\n",
      "<ipython-input-107-bdb453401523>:12: SettingWithCopyWarning: \n",
      "A value is trying to be set on a copy of a slice from a DataFrame\n",
      "\n",
      "See the caveats in the documentation: https://pandas.pydata.org/pandas-docs/stable/user_guide/indexing.html#returning-a-view-versus-a-copy\n",
      "  dataset['start_lat'][cnt] = location['latitude'][loc_cnt]\n"
     ]
    }
   ],
   "source": [
    "# for start station id\n",
    "\n",
    "cnt = 0\n",
    "loc_cnt = 0\n",
    "\n",
    "for cnt in range(1000):\n",
    "    data = dataset['StartStation Id'][cnt]\n",
    "    for loc_cnt in range(802):\n",
    "        loc = location['Station.Id'][loc_cnt]\n",
    "        if (data - loc) == 0:\n",
    "            dataset['start_log'][cnt] = location['longitude'][loc_cnt]\n",
    "            dataset['start_lat'][cnt] = location['latitude'][loc_cnt]   \n",
    "            #print (dataset['start_log'][cnt])\n",
    "    loc_cnt = -1\n",
    "    \n",
    "cnt += 1\n",
    "loc_cnt += 1"
   ]
  },
  {
   "cell_type": "code",
   "execution_count": 110,
   "id": "3dbf8b26",
   "metadata": {
    "scrolled": true
   },
   "outputs": [
    {
     "name": "stderr",
     "output_type": "stream",
     "text": [
      "<ipython-input-110-7a9b4acc6dfc>:11: SettingWithCopyWarning: \n",
      "A value is trying to be set on a copy of a slice from a DataFrame\n",
      "\n",
      "See the caveats in the documentation: https://pandas.pydata.org/pandas-docs/stable/user_guide/indexing.html#returning-a-view-versus-a-copy\n",
      "  dataset['end_log'][cnt] = location['longitude'][loc_cnt]\n",
      "<ipython-input-110-7a9b4acc6dfc>:12: SettingWithCopyWarning: \n",
      "A value is trying to be set on a copy of a slice from a DataFrame\n",
      "\n",
      "See the caveats in the documentation: https://pandas.pydata.org/pandas-docs/stable/user_guide/indexing.html#returning-a-view-versus-a-copy\n",
      "  dataset['end_lat'][cnt] = location['latitude'][loc_cnt]\n"
     ]
    }
   ],
   "source": [
    "# for end station id\n",
    "\n",
    "cnt = 0\n",
    "loc_cnt = 0\n",
    "\n",
    "for cnt in range(1000):\n",
    "    data = dataset['EndStation Id'][cnt]\n",
    "    for loc_cnt in range(802):\n",
    "        loc = location['Station.Id'][loc_cnt]\n",
    "        if (data - loc) == 0:\n",
    "            dataset['end_log'][cnt] = location['longitude'][loc_cnt]\n",
    "            dataset['end_lat'][cnt] = location['latitude'][loc_cnt]   \n",
    "    loc_cnt = -1\n",
    "    \n",
    "cnt += 1\n",
    "loc_cnt += 1"
   ]
  },
  {
   "cell_type": "markdown",
   "id": "d1efffd0",
   "metadata": {},
   "source": [
    "### After the columns been added"
   ]
  },
  {
   "cell_type": "code",
   "execution_count": 111,
   "id": "0b598ea1",
   "metadata": {},
   "outputs": [
    {
     "data": {
      "text/html": [
       "<div>\n",
       "<style scoped>\n",
       "    .dataframe tbody tr th:only-of-type {\n",
       "        vertical-align: middle;\n",
       "    }\n",
       "\n",
       "    .dataframe tbody tr th {\n",
       "        vertical-align: top;\n",
       "    }\n",
       "\n",
       "    .dataframe thead th {\n",
       "        text-align: right;\n",
       "    }\n",
       "</style>\n",
       "<table border=\"1\" class=\"dataframe\">\n",
       "  <thead>\n",
       "    <tr style=\"text-align: right;\">\n",
       "      <th></th>\n",
       "      <th>Rental Id</th>\n",
       "      <th>Duration</th>\n",
       "      <th>Bike Id</th>\n",
       "      <th>End Date</th>\n",
       "      <th>EndStation Id</th>\n",
       "      <th>EndStation Name</th>\n",
       "      <th>Start Date</th>\n",
       "      <th>StartStation Id</th>\n",
       "      <th>StartStation Name</th>\n",
       "      <th>start_log</th>\n",
       "      <th>start_lat</th>\n",
       "      <th>end_log</th>\n",
       "      <th>end_lat</th>\n",
       "    </tr>\n",
       "  </thead>\n",
       "  <tbody>\n",
       "    <tr>\n",
       "      <th>0</th>\n",
       "      <td>79466053</td>\n",
       "      <td>1260</td>\n",
       "      <td>3133</td>\n",
       "      <td>20/08/2018 12:35</td>\n",
       "      <td>103</td>\n",
       "      <td>Vicarage Gate, Kensington</td>\n",
       "      <td>20/08/2018 12:14</td>\n",
       "      <td>754</td>\n",
       "      <td>Grenfell Road, Avondale</td>\n",
       "      <td>-0.214763</td>\n",
       "      <td>51.5129</td>\n",
       "      <td>-0.192539</td>\n",
       "      <td>51.5047</td>\n",
       "    </tr>\n",
       "    <tr>\n",
       "      <th>1</th>\n",
       "      <td>79325170</td>\n",
       "      <td>1200</td>\n",
       "      <td>13603</td>\n",
       "      <td>16/08/2018 08:42</td>\n",
       "      <td>83</td>\n",
       "      <td>Panton Street, West End</td>\n",
       "      <td>16/08/2018 08:22</td>\n",
       "      <td>669</td>\n",
       "      <td>Teversham Lane, Stockwell</td>\n",
       "      <td>-0.123258</td>\n",
       "      <td>51.4761</td>\n",
       "      <td>-0.131511</td>\n",
       "      <td>51.5096</td>\n",
       "    </tr>\n",
       "    <tr>\n",
       "      <th>2</th>\n",
       "      <td>79469808</td>\n",
       "      <td>1080</td>\n",
       "      <td>13368</td>\n",
       "      <td>20/08/2018 14:42</td>\n",
       "      <td>115</td>\n",
       "      <td>Braham Street, Aldgate</td>\n",
       "      <td>20/08/2018 14:24</td>\n",
       "      <td>101</td>\n",
       "      <td>Queen Street 1, Bank</td>\n",
       "      <td>-0.092940</td>\n",
       "      <td>51.5116</td>\n",
       "      <td>-0.073538</td>\n",
       "      <td>51.5142</td>\n",
       "    </tr>\n",
       "    <tr>\n",
       "      <th>3</th>\n",
       "      <td>79348433</td>\n",
       "      <td>600</td>\n",
       "      <td>13965</td>\n",
       "      <td>17/08/2018 00:11</td>\n",
       "      <td>616</td>\n",
       "      <td>Aintree Street, Fulham</td>\n",
       "      <td>17/08/2018 00:01</td>\n",
       "      <td>37</td>\n",
       "      <td>Penywern Road, Earl's Court</td>\n",
       "      <td>-0.192369</td>\n",
       "      <td>51.4916</td>\n",
       "      <td>-0.209973</td>\n",
       "      <td>51.4810</td>\n",
       "    </tr>\n",
       "    <tr>\n",
       "      <th>4</th>\n",
       "      <td>79503786</td>\n",
       "      <td>4680</td>\n",
       "      <td>12965</td>\n",
       "      <td>21/08/2018 11:40</td>\n",
       "      <td>446</td>\n",
       "      <td>York Hall, Bethnal Green</td>\n",
       "      <td>21/08/2018 10:22</td>\n",
       "      <td>101</td>\n",
       "      <td>Queen Street 1, Bank</td>\n",
       "      <td>-0.092940</td>\n",
       "      <td>51.5116</td>\n",
       "      <td>-0.055894</td>\n",
       "      <td>51.5289</td>\n",
       "    </tr>\n",
       "    <tr>\n",
       "      <th>...</th>\n",
       "      <td>...</td>\n",
       "      <td>...</td>\n",
       "      <td>...</td>\n",
       "      <td>...</td>\n",
       "      <td>...</td>\n",
       "      <td>...</td>\n",
       "      <td>...</td>\n",
       "      <td>...</td>\n",
       "      <td>...</td>\n",
       "      <td>...</td>\n",
       "      <td>...</td>\n",
       "      <td>...</td>\n",
       "      <td>...</td>\n",
       "    </tr>\n",
       "    <tr>\n",
       "      <th>245618</th>\n",
       "      <td>79393704</td>\n",
       "      <td>720</td>\n",
       "      <td>10792</td>\n",
       "      <td>18/08/2018 12:02</td>\n",
       "      <td>236</td>\n",
       "      <td>Fashion Street, Whitechapel</td>\n",
       "      <td>18/08/2018 11:50</td>\n",
       "      <td>531</td>\n",
       "      <td>Twig Folly Bridge, Mile End</td>\n",
       "      <td>-0.055167</td>\n",
       "      <td>51.5084</td>\n",
       "      <td>-0.022793</td>\n",
       "      <td>51.4973</td>\n",
       "    </tr>\n",
       "    <tr>\n",
       "      <th>245619</th>\n",
       "      <td>79458279</td>\n",
       "      <td>2280</td>\n",
       "      <td>3500</td>\n",
       "      <td>20/08/2018 09:06</td>\n",
       "      <td>254</td>\n",
       "      <td>Chadwell Street, Angel</td>\n",
       "      <td>20/08/2018 08:28</td>\n",
       "      <td>499</td>\n",
       "      <td>Furze Green, Bow</td>\n",
       "      <td>-0.055167</td>\n",
       "      <td>51.5084</td>\n",
       "      <td>-0.022793</td>\n",
       "      <td>51.4973</td>\n",
       "    </tr>\n",
       "    <tr>\n",
       "      <th>245620</th>\n",
       "      <td>79390430</td>\n",
       "      <td>3300</td>\n",
       "      <td>10125</td>\n",
       "      <td>18/08/2018 11:04</td>\n",
       "      <td>404</td>\n",
       "      <td>Palace Gate, Kensington Gardens</td>\n",
       "      <td>18/08/2018 10:09</td>\n",
       "      <td>350</td>\n",
       "      <td>Queen's Gate, Kensington Gardens</td>\n",
       "      <td>-0.055167</td>\n",
       "      <td>51.5084</td>\n",
       "      <td>-0.022793</td>\n",
       "      <td>51.4973</td>\n",
       "    </tr>\n",
       "    <tr>\n",
       "      <th>245621</th>\n",
       "      <td>79392872</td>\n",
       "      <td>3060</td>\n",
       "      <td>3978</td>\n",
       "      <td>18/08/2018 12:19</td>\n",
       "      <td>404</td>\n",
       "      <td>Palace Gate, Kensington Gardens</td>\n",
       "      <td>18/08/2018 11:28</td>\n",
       "      <td>350</td>\n",
       "      <td>Queen's Gate, Kensington Gardens</td>\n",
       "      <td>-0.055167</td>\n",
       "      <td>51.5084</td>\n",
       "      <td>-0.022793</td>\n",
       "      <td>51.4973</td>\n",
       "    </tr>\n",
       "    <tr>\n",
       "      <th>245622</th>\n",
       "      <td>79507558</td>\n",
       "      <td>1740</td>\n",
       "      <td>12315</td>\n",
       "      <td>21/08/2018 13:26</td>\n",
       "      <td>379</td>\n",
       "      <td>Turquoise Island, Notting Hill</td>\n",
       "      <td>21/08/2018 12:57</td>\n",
       "      <td>116</td>\n",
       "      <td>Little Argyll Street, West End</td>\n",
       "      <td>-0.055167</td>\n",
       "      <td>51.5084</td>\n",
       "      <td>-0.022793</td>\n",
       "      <td>51.4973</td>\n",
       "    </tr>\n",
       "  </tbody>\n",
       "</table>\n",
       "<p>245623 rows × 13 columns</p>\n",
       "</div>"
      ],
      "text/plain": [
       "        Rental Id  Duration  Bike Id          End Date  EndStation Id  \\\n",
       "0        79466053      1260     3133  20/08/2018 12:35            103   \n",
       "1        79325170      1200    13603  16/08/2018 08:42             83   \n",
       "2        79469808      1080    13368  20/08/2018 14:42            115   \n",
       "3        79348433       600    13965  17/08/2018 00:11            616   \n",
       "4        79503786      4680    12965  21/08/2018 11:40            446   \n",
       "...           ...       ...      ...               ...            ...   \n",
       "245618   79393704       720    10792  18/08/2018 12:02            236   \n",
       "245619   79458279      2280     3500  20/08/2018 09:06            254   \n",
       "245620   79390430      3300    10125  18/08/2018 11:04            404   \n",
       "245621   79392872      3060     3978  18/08/2018 12:19            404   \n",
       "245622   79507558      1740    12315  21/08/2018 13:26            379   \n",
       "\n",
       "                        EndStation Name        Start Date  StartStation Id  \\\n",
       "0             Vicarage Gate, Kensington  20/08/2018 12:14              754   \n",
       "1               Panton Street, West End  16/08/2018 08:22              669   \n",
       "2                Braham Street, Aldgate  20/08/2018 14:24              101   \n",
       "3                Aintree Street, Fulham  17/08/2018 00:01               37   \n",
       "4              York Hall, Bethnal Green  21/08/2018 10:22              101   \n",
       "...                                 ...               ...              ...   \n",
       "245618      Fashion Street, Whitechapel  18/08/2018 11:50              531   \n",
       "245619           Chadwell Street, Angel  20/08/2018 08:28              499   \n",
       "245620  Palace Gate, Kensington Gardens  18/08/2018 10:09              350   \n",
       "245621  Palace Gate, Kensington Gardens  18/08/2018 11:28              350   \n",
       "245622   Turquoise Island, Notting Hill  21/08/2018 12:57              116   \n",
       "\n",
       "                       StartStation Name  start_log  start_lat   end_log  \\\n",
       "0                Grenfell Road, Avondale  -0.214763    51.5129 -0.192539   \n",
       "1              Teversham Lane, Stockwell  -0.123258    51.4761 -0.131511   \n",
       "2                   Queen Street 1, Bank  -0.092940    51.5116 -0.073538   \n",
       "3            Penywern Road, Earl's Court  -0.192369    51.4916 -0.209973   \n",
       "4                   Queen Street 1, Bank  -0.092940    51.5116 -0.055894   \n",
       "...                                  ...        ...        ...       ...   \n",
       "245618       Twig Folly Bridge, Mile End  -0.055167    51.5084 -0.022793   \n",
       "245619                  Furze Green, Bow  -0.055167    51.5084 -0.022793   \n",
       "245620  Queen's Gate, Kensington Gardens  -0.055167    51.5084 -0.022793   \n",
       "245621  Queen's Gate, Kensington Gardens  -0.055167    51.5084 -0.022793   \n",
       "245622    Little Argyll Street, West End  -0.055167    51.5084 -0.022793   \n",
       "\n",
       "        end_lat  \n",
       "0       51.5047  \n",
       "1       51.5096  \n",
       "2       51.5142  \n",
       "3       51.4810  \n",
       "4       51.5289  \n",
       "...         ...  \n",
       "245618  51.4973  \n",
       "245619  51.4973  \n",
       "245620  51.4973  \n",
       "245621  51.4973  \n",
       "245622  51.4973  \n",
       "\n",
       "[245623 rows x 13 columns]"
      ]
     },
     "execution_count": 111,
     "metadata": {},
     "output_type": "execute_result"
    }
   ],
   "source": [
    "dataset"
   ]
  },
  {
   "cell_type": "code",
   "execution_count": 42,
   "id": "fab3687f",
   "metadata": {},
   "outputs": [],
   "source": [
    "# Compute IsWeekday\n",
    "\n",
    "weekday = np.zeros(len(date))\n",
    "weekday[:] = np.nan\n",
    "cnt = 0\n",
    "\n",
    "for _year, _month, _date, _hour, _minute in zip(year, month, date, hour, minute):\n",
    "  _dt = dt.datetime(_year, _month, _date, _hour, _minute)\n",
    "  _weekday = _dt.weekday()\n",
    "  weekday[cnt] = _weekday\n",
    "  cnt += 1\n",
    "\n",
    "IsWeekday = weekday < 5\n",
    "dataset['IsWeekday'] = IsWeekday\n",
    "\n",
    "# Compute TimeSlice\n",
    "\n",
    "dataset['TimeSlice'] = (hour*3 + np.floor(minute/20)).astype(int)"
   ]
  },
  {
   "cell_type": "markdown",
   "id": "ef8a2c80",
   "metadata": {},
   "source": [
    "#### Then we extract weekday data by date.\n",
    "#### weekday() and evenly divide a 24-hour day into 72 time slices, such that each time slice represents a 20-minute interval."
   ]
  },
  {
   "cell_type": "code",
   "execution_count": 65,
   "id": "a2a037ae",
   "metadata": {},
   "outputs": [
    {
     "data": {
      "text/plain": [
       "Start Date\n",
       "2018-08-20 12:14:00    36\n",
       "2018-08-16 08:22:00    25\n",
       "2018-08-20 14:24:00    43\n",
       "2018-08-17 00:01:00     0\n",
       "2018-08-21 10:22:00    31\n",
       "Name: TimeSlice, dtype: int64"
      ]
     },
     "execution_count": 65,
     "metadata": {},
     "output_type": "execute_result"
    }
   ],
   "source": [
    "dataset['TimeSlice'].head()"
   ]
  },
  {
   "cell_type": "code",
   "execution_count": 68,
   "id": "ad2e1610",
   "metadata": {},
   "outputs": [],
   "source": [
    "start_id = dataset['StartStation Id'].values\n",
    "end_id = dataset['EndStation Id'].values\n",
    "start_station = dataset['StartStation Name'].values\n",
    "end_station = dataset['EndStation Name'].values"
   ]
  },
  {
   "cell_type": "code",
   "execution_count": 70,
   "id": "b05412d0",
   "metadata": {},
   "outputs": [],
   "source": [
    "# Extract only valid journeys\n",
    "\n",
    "valid = np.zeros(len(date))\n",
    "valid[:] = False\n",
    "cnt = 0\n",
    "\n",
    "for _start, _end in zip(start_id, end_id):\n",
    "  if np.logical_and((_start in start_id), (_end in end_id)):\n",
    "    valid[cnt] = True\n",
    "  cnt += 1\n",
    "\n",
    "dataset['Valid'] = valid"
   ]
  },
  {
   "cell_type": "code",
   "execution_count": 47,
   "id": "7da10822",
   "metadata": {},
   "outputs": [
    {
     "name": "stdout",
     "output_type": "stream",
     "text": [
      "Ratio of valid journeys= 100.00%\n"
     ]
    }
   ],
   "source": [
    "# Only keep valid and weekday journeys\n",
    "\n",
    "df = dataset[dataset[\"IsWeekday\"] == True].drop(columns=\"IsWeekday\")\n",
    "df = dataset[dataset[\"Valid\"] == True].drop(columns=\"Valid\")\n",
    "\n",
    "print('Ratio of valid journeys= {:.2f}%'.format(df.shape[0] / dataset.shape[0] * 100))"
   ]
  },
  {
   "cell_type": "markdown",
   "id": "bb54c76e",
   "metadata": {},
   "source": [
    "## Plot a graph\n",
    "\n",
    "- Daily Graph"
   ]
  },
  {
   "cell_type": "code",
   "execution_count": 94,
   "id": "78ec62fa",
   "metadata": {},
   "outputs": [],
   "source": [
    "#df_by_month = dataset.resample('D').sum()\n",
    "#df_by_month.head()"
   ]
  },
  {
   "cell_type": "markdown",
   "id": "ae933fb0",
   "metadata": {},
   "source": [
    "## Try to find a way you can add 'cnt' to this dataset\n",
    "- Capacity\n",
    "- Originial no of bike at noon\n"
   ]
  },
  {
   "cell_type": "code",
   "execution_count": 74,
   "id": "52106896",
   "metadata": {},
   "outputs": [
    {
     "data": {
      "text/plain": [
       "[Text(0.5, 0, 'Timestamp'), Text(0, 0.5, 'Duration')]"
      ]
     },
     "execution_count": 74,
     "metadata": {},
     "output_type": "execute_result"
    },
    {
     "data": {
      "image/png": "[encoded data removed]",
      "text/plain": [
       "<Figure size 432x288 with 1 Axes>"
      ]
     },
     "metadata": {
      "needs_background": "light"
     },
     "output_type": "display_data"
    }
   ],
   "source": [
    "import seaborn as sns\n",
    "\n",
    "ax = sns.lineplot(x = df_by_month.index, y = ('Duration'), data = df_by_month);\n",
    "ax.set(xlabel = 'Timestamp', ylabel = 'Duration')"
   ]
  },
  {
   "cell_type": "markdown",
   "id": "8302201c",
   "metadata": {},
   "source": [
    "#### Average departure rates on weekdays"
   ]
  },
  {
   "cell_type": "code",
   "execution_count": 82,
   "id": "7fc25ea6",
   "metadata": {},
   "outputs": [
    {
     "data": {
      "image/png": "[encoded data removed]",
      "text/plain": [
       "<Figure size 432x288 with 1 Axes>"
      ]
     },
     "metadata": {
      "needs_background": "light"
     },
     "output_type": "display_data"
    },
    {
     "name": "stdout",
     "output_type": "stream",
     "text": [
      "Peak Timeslice= 53\n"
     ]
    }
   ],
   "source": [
    "# Plot example\n",
    "\n",
    "grp_by_timeslice = df.groupby('TimeSlice').count().values[:,0]\n",
    "\n",
    "plt.bar(range(0,72), grp_by_timeslice)\n",
    "plt.xlabel('Time Slice')\n",
    "plt.ylabel('#Departure')\n",
    "plt.show()\n",
    "\n",
    "print('Peak Timeslice= {}'.format(grp_by_timeslice.argmax()))"
   ]
  },
  {
   "cell_type": "markdown",
   "id": "a4a0d882",
   "metadata": {},
   "source": [
    "## Visualisation of the map\n",
    "### Need to fix the error [lat,lon]"
   ]
  },
  {
   "cell_type": "code",
   "execution_count": 143,
   "id": "3c1f4a2a",
   "metadata": {},
   "outputs": [],
   "source": [
    "lon = dataset['start_log']\n",
    "lat = dataset['start_lat']\n",
    "name = dataset['StartStation Name']"
   ]
  },
  {
   "cell_type": "code",
   "execution_count": null,
   "id": "92dd082c",
   "metadata": {},
   "outputs": [],
   "source": [
    "## For later use\n",
    "#Function to change colors\n",
    "\n",
    "def color_change(c):\n",
    "    if(c < 15):\n",
    "        return('red')\n",
    "    elif(15 <= c < 30):\n",
    "        return('orange')\n",
    "    else:\n",
    "        return('green')"
   ]
  },
  {
   "cell_type": "code",
   "execution_count": 142,
   "id": "23426671",
   "metadata": {},
   "outputs": [
    {
     "data": {
      "text/html": [
       "<div style=\"width:100%;\"><div style=\"position:relative;width:100%;height:0;padding-bottom:60%;\"><span style=\"color:#565656\">Make this Notebook Trusted to load map: File -> Trust Notebook</span><iframe src=\"about:blank\" style=\"position:absolute;width:100%;height:100%;left:0;top:0;border:none !important;\" data-html=%3C%21DOCTYPE%20html%3E%0A%3Chead%3E%20%20%20%20%0A%20%20%20%20%3Cmeta%20http-equiv%3D%22content-type%22%20content%3D%22text/html%3B%20charset%3DUTF-8%22%20/%3E%0A%20%20%20%20%0A%20%20%20%20%20%20%20%20%3Cscript%3E%0A%20%20%20%20%20%20%20%20%20%20%20%20L_NO_TOUCH%20%3D%20false%3B%0A%20%20%20%20%20%20%20%20%20%20%20%20L_DISABLE_3D%20%3D%20false%3B%0A%20%20%20%20%20%20%20%20%3C/script%3E%0A%20%20%20%20%0A%20%20%20%20%3Cstyle%3Ehtml%2C%20body%20%7Bwidth%3A%20100%25%3Bheight%3A%20100%25%3Bmargin%3A%200%3Bpadding%3A%200%3B%7D%3C/style%3E%0A%20%20%20%20%3Cstyle%3E%23map%20%7Bposition%3Aabsolute%3Btop%3A0%3Bbottom%3A0%3Bright%3A0%3Bleft%3A0%3B%7D%3C/style%3E%0A%20%20%20%20%3Cscript%20src%3D%22https%3A//cdn.jsdelivr.net/npm/leaflet%401.6.0/dist/leaflet.js%22%3E%3C/script%3E%0A%20%20%20%20%3Cscript%20src%3D%22https%3A//code.jquery.com/jquery-1.12.4.min.js%22%3E%3C/script%3E%0A%20%20%20%20%3Cscript%20src%3D%22https%3A//maxcdn.bootstrapcdn.com/bootstrap/3.2.0/js/bootstrap.min.js%22%3E%3C/script%3E%0A%20%20%20%20%3Cscript%20src%3D%22https%3A//cdnjs.cloudflare.com/ajax/libs/Leaflet.awesome-markers/2.0.2/leaflet.awesome-markers.js%22%3E%3C/script%3E%0A%20%20%20%20%3Clink%20rel%3D%22stylesheet%22%20href%3D%22https%3A//cdn.jsdelivr.net/npm/leaflet%401.6.0/dist/leaflet.css%22/%3E%0A%20%20%20%20%3Clink%20rel%3D%22stylesheet%22%20href%3D%22https%3A//maxcdn.bootstrapcdn.com/bootstrap/3.2.0/css/bootstrap.min.css%22/%3E%0A%20%20%20%20%3Clink%20rel%3D%22stylesheet%22%20href%3D%22https%3A//maxcdn.bootstrapcdn.com/bootstrap/3.2.0/css/bootstrap-theme.min.css%22/%3E%0A%20%20%20%20%3Clink%20rel%3D%22stylesheet%22%20href%3D%22https%3A//maxcdn.bootstrapcdn.com/font-awesome/4.6.3/css/font-awesome.min.css%22/%3E%0A%20%20%20%20%3Clink%20rel%3D%22stylesheet%22%20href%3D%22https%3A//cdnjs.cloudflare.com/ajax/libs/Leaflet.awesome-markers/2.0.2/leaflet.awesome-markers.css%22/%3E%0A%20%20%20%20%3Clink%20rel%3D%22stylesheet%22%20href%3D%22https%3A//cdn.jsdelivr.net/gh/python-visualization/folium/folium/templates/leaflet.awesome.rotate.min.css%22/%3E%0A%20%20%20%20%0A%20%20%20%20%20%20%20%20%20%20%20%20%3Cmeta%20name%3D%22viewport%22%20content%3D%22width%3Ddevice-width%2C%0A%20%20%20%20%20%20%20%20%20%20%20%20%20%20%20%20initial-scale%3D1.0%2C%20maximum-scale%3D1.0%2C%20user-scalable%3Dno%22%20/%3E%0A%20%20%20%20%20%20%20%20%20%20%20%20%3Cstyle%3E%0A%20%20%20%20%20%20%20%20%20%20%20%20%20%20%20%20%23map_84580385b78345f8986a2a8778c3710a%20%7B%0A%20%20%20%20%20%20%20%20%20%20%20%20%20%20%20%20%20%20%20%20position%3A%20relative%3B%0A%20%20%20%20%20%20%20%20%20%20%20%20%20%20%20%20%20%20%20%20width%3A%20100.0%25%3B%0A%20%20%20%20%20%20%20%20%20%20%20%20%20%20%20%20%20%20%20%20height%3A%20100.0%25%3B%0A%20%20%20%20%20%20%20%20%20%20%20%20%20%20%20%20%20%20%20%20left%3A%200.0%25%3B%0A%20%20%20%20%20%20%20%20%20%20%20%20%20%20%20%20%20%20%20%20top%3A%200.0%25%3B%0A%20%20%20%20%20%20%20%20%20%20%20%20%20%20%20%20%7D%0A%20%20%20%20%20%20%20%20%20%20%20%20%3C/style%3E%0A%20%20%20%20%20%20%20%20%0A%3C/head%3E%0A%3Cbody%3E%20%20%20%20%0A%20%20%20%20%0A%20%20%20%20%20%20%20%20%20%20%20%20%3Cdiv%20class%3D%22folium-map%22%20id%3D%22map_84580385b78345f8986a2a8778c3710a%22%20%3E%3C/div%3E%0A%20%20%20%20%20%20%20%20%0A%3C/body%3E%0A%3Cscript%3E%20%20%20%20%0A%20%20%20%20%0A%20%20%20%20%20%20%20%20%20%20%20%20var%20map_84580385b78345f8986a2a8778c3710a%20%3D%20L.map%28%0A%20%20%20%20%20%20%20%20%20%20%20%20%20%20%20%20%22map_84580385b78345f8986a2a8778c3710a%22%2C%0A%20%20%20%20%20%20%20%20%20%20%20%20%20%20%20%20%7B%0A%20%20%20%20%20%20%20%20%20%20%20%20%20%20%20%20%20%20%20%20center%3A%20%5B51.506949%2C%20-0.122876%5D%2C%0A%20%20%20%20%20%20%20%20%20%20%20%20%20%20%20%20%20%20%20%20crs%3A%20L.CRS.EPSG3857%2C%0A%20%20%20%20%20%20%20%20%20%20%20%20%20%20%20%20%20%20%20%20zoom%3A%2012%2C%0A%20%20%20%20%20%20%20%20%20%20%20%20%20%20%20%20%20%20%20%20zoomControl%3A%20true%2C%0A%20%20%20%20%20%20%20%20%20%20%20%20%20%20%20%20%20%20%20%20preferCanvas%3A%20false%2C%0A%20%20%20%20%20%20%20%20%20%20%20%20%20%20%20%20%7D%0A%20%20%20%20%20%20%20%20%20%20%20%20%29%3B%0A%0A%20%20%20%20%20%20%20%20%20%20%20%20%0A%0A%20%20%20%20%20%20%20%20%0A%20%20%20%20%0A%20%20%20%20%20%20%20%20%20%20%20%20var%20tile_layer_0a7d0b4a5d744c21a63f9c7416326c0f%20%3D%20L.tileLayer%28%0A%20%20%20%20%20%20%20%20%20%20%20%20%20%20%20%20%22https%3A//cartodb-basemaps-%7Bs%7D.global.ssl.fastly.net/light_all/%7Bz%7D/%7Bx%7D/%7By%7D.png%22%2C%0A%20%20%20%20%20%20%20%20%20%20%20%20%20%20%20%20%7B%22attribution%22%3A%20%22%5Cu0026copy%3B%20%5Cu003ca%20href%3D%5C%22http%3A//www.openstreetmap.org/copyright%5C%22%5Cu003eOpenStreetMap%5Cu003c/a%5Cu003e%20contributors%20%5Cu0026copy%3B%20%5Cu003ca%20href%3D%5C%22http%3A//cartodb.com/attributions%5C%22%5Cu003eCartoDB%5Cu003c/a%5Cu003e%2C%20CartoDB%20%5Cu003ca%20href%20%3D%5C%22http%3A//cartodb.com/attributions%5C%22%5Cu003eattributions%5Cu003c/a%5Cu003e%22%2C%20%22detectRetina%22%3A%20false%2C%20%22maxNativeZoom%22%3A%2018%2C%20%22maxZoom%22%3A%2018%2C%20%22minZoom%22%3A%200%2C%20%22noWrap%22%3A%20false%2C%20%22opacity%22%3A%201%2C%20%22subdomains%22%3A%20%22abc%22%2C%20%22tms%22%3A%20false%7D%0A%20%20%20%20%20%20%20%20%20%20%20%20%29.addTo%28map_84580385b78345f8986a2a8778c3710a%29%3B%0A%20%20%20%20%20%20%20%20%0A%3C/script%3E onload=\"this.contentDocument.open();this.contentDocument.write(    decodeURIComponent(this.getAttribute('data-html')));this.contentDocument.close();\" allowfullscreen webkitallowfullscreen mozallowfullscreen></iframe></div></div>"
      ],
      "text/plain": [
       "<folium.folium.Map at 0x7faf0dd4e9a0>"
      ]
     },
     "execution_count": 142,
     "metadata": {},
     "output_type": "execute_result"
    }
   ],
   "source": [
    "# Create base map\n",
    "\n",
    "London = [51.506949, -0.122876]\n",
    "map = folium.Map(location = London,\n",
    "                 zoom_start = 12, \n",
    "                 tiles = \"CartoDB positron\")\n",
    "#marker_cluster = MarkerCluster(locations = [lat,lon]).add_to(map)\n",
    "\n",
    "# Plot markers\n",
    "\n",
    "for _lat, _lon, _name in zip(lat, lon, name):\n",
    "    folium.CircleMarker(location = [_lat, _lon], \n",
    "                        radius = 9, \n",
    "                        popup = _name, \n",
    "                        color = \"gray\", \n",
    "                        fill_opacity = 0.9).add_to(marker_cluster)\n",
    "    \n",
    "map"
   ]
  },
  {
   "cell_type": "code",
   "execution_count": 49,
   "id": "300744f8",
   "metadata": {},
   "outputs": [],
   "source": [
    "# Build DensityMap function\n",
    "\n",
    "def DensityMap(stations, cnt_departure, cnt_arrival):\n",
    "\n",
    "  London = [51.506949, -0.122876]\n",
    "  \n",
    "  map = folium.Map(location = London, \n",
    "                   zoom_start = 12, \n",
    "                   tiles = \"CartoDB dark_matter\")\n",
    "  \n",
    "  dataset['Total Departure'] = cnt_departure\n",
    "  dataset['Total Arrival'] = cnt_arrival\n",
    "\n",
    "  for index, row in stations.iterrows():\n",
    "    net_departure = row['Total Departure'] - row['Total Arrival']\n",
    "    \n",
    "    _radius = np.abs(net_departure) \n",
    "    if np.isnan(_radius):\n",
    "      _radius = 0\n",
    "    \n",
    "    if net_departure > 0:\n",
    "      _color= '#E80018' # target red\n",
    "    else:\n",
    "      _color= '#81D8D0' # tiffany blue\n",
    "  \n",
    "    lat, lon = row['lat'], row['lon']\n",
    "    _popup = '('+str(row['capacity'])+'/'+str(int(_radius))+') '+row['station_name']\n",
    "  \n",
    "    folium.CircleMarker(location = [lat,lon], \n",
    "                        radius = _radius, \n",
    "                        popup = _popup, \n",
    "                        color = _color, \n",
    "                        fill_opacity = 0.5).add_to(map)\n",
    "  \n",
    "  return map"
   ]
  },
  {
   "cell_type": "code",
   "execution_count": 51,
   "id": "a81c173c",
   "metadata": {},
   "outputs": [
    {
     "ename": "NameError",
     "evalue": "name 'stations' is not defined",
     "output_type": "error",
     "traceback": [
      "\u001b[0;31m---------------------------------------------------------------------------\u001b[0m",
      "\u001b[0;31mNameError\u001b[0m                                 Traceback (most recent call last)",
      "\u001b[0;32m<ipython-input-51-744906bb0d72>\u001b[0m in \u001b[0;36m<module>\u001b[0;34m\u001b[0m\n\u001b[1;32m     13\u001b[0m   \u001b[0mcnt_arrival\u001b[0m \u001b[0;34m=\u001b[0m \u001b[0mdf_target\u001b[0m\u001b[0;34m.\u001b[0m\u001b[0mgroupby\u001b[0m\u001b[0;34m(\u001b[0m\u001b[0;34m\"EndStation Id\"\u001b[0m\u001b[0;34m)\u001b[0m\u001b[0;34m.\u001b[0m\u001b[0mcount\u001b[0m\u001b[0;34m(\u001b[0m\u001b[0;34m)\u001b[0m\u001b[0;34m.\u001b[0m\u001b[0miloc\u001b[0m\u001b[0;34m[\u001b[0m\u001b[0;34m:\u001b[0m\u001b[0;34m,\u001b[0m\u001b[0;36m0\u001b[0m\u001b[0;34m]\u001b[0m\u001b[0;34m\u001b[0m\u001b[0;34m\u001b[0m\u001b[0m\n\u001b[1;32m     14\u001b[0m \u001b[0;34m\u001b[0m\u001b[0m\n\u001b[0;32m---> 15\u001b[0;31m   \u001b[0mvars\u001b[0m\u001b[0;34m(\u001b[0m\u001b[0;34m)\u001b[0m\u001b[0;34m[\u001b[0m\u001b[0mkw\u001b[0m\u001b[0;34m]\u001b[0m \u001b[0;34m=\u001b[0m \u001b[0mDensityMap\u001b[0m\u001b[0;34m(\u001b[0m\u001b[0mstations\u001b[0m\u001b[0;34m,\u001b[0m \u001b[0mcnt_departure\u001b[0m\u001b[0;34m,\u001b[0m \u001b[0mcnt_arrival\u001b[0m\u001b[0;34m)\u001b[0m\u001b[0;34m\u001b[0m\u001b[0;34m\u001b[0m\u001b[0m\n\u001b[0m",
      "\u001b[0;31mNameError\u001b[0m: name 'stations' is not defined"
     ]
    }
   ],
   "source": [
    "# Select peak hours\n",
    "\n",
    "TimeSlice = [25,53] # morning and evening\n",
    "keyword = ['map_morning', 'map_evening']\n",
    "\n",
    "# Journeys depart between 0820 and 0859, and between 1740 and 1819\n",
    "for ts, kw in zip(TimeSlice, keyword):\n",
    "  df_1 = df[df[\"TimeSlice\"] == ts]\n",
    "  df_2 = df[df[\"TimeSlice\"] == (ts+1)]\n",
    "  df_target = df_1.append(df_2)\n",
    "\n",
    "  cnt_departure = df_target.groupby(\"StartStation Id\").count().iloc[:,0]\n",
    "  cnt_arrival = df_target.groupby(\"EndStation Id\").count().iloc[:,0]\n",
    "\n",
    "  vars()[kw] = DensityMap(stations, cnt_departure, cnt_arrival)"
   ]
  },
  {
   "cell_type": "code",
   "execution_count": null,
   "id": "b335db6d",
   "metadata": {},
   "outputs": [],
   "source": []
  }
 ],
 "metadata": {
  "kernelspec": {
   "display_name": "Python 3",
   "language": "python",
   "name": "python3"
  },
  "language_info": {
   "codemirror_mode": {
    "name": "ipython",
    "version": 3
   },
   "file_extension": ".py",
   "mimetype": "text/x-python",
   "name": "python",
   "nbconvert_exporter": "python",
   "pygments_lexer": "ipython3",
   "version": "3.8.8"
  }
 },
 "nbformat": 4,
 "nbformat_minor": 5
}
